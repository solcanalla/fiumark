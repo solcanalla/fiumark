{
  "nbformat": 4,
  "nbformat_minor": 0,
  "metadata": {
    "colab": {
      "name": "XGBoost.ipynb",
      "provenance": [],
      "toc_visible": true,
      "authorship_tag": "ABX9TyMVoN/60T05ACvziu3vXv48",
      "include_colab_link": true
    },
    "kernelspec": {
      "name": "python3",
      "display_name": "Python 3"
    }
  },
  "cells": [
    {
      "cell_type": "markdown",
      "metadata": {
        "id": "view-in-github",
        "colab_type": "text"
      },
      "source": [
        "<a href=\"https://colab.research.google.com/github/solcanalla/fiumark/blob/main/xgboost.ipynb\" target=\"_parent\"><img src=\"https://colab.research.google.com/assets/colab-badge.svg\" alt=\"Open In Colab\"/></a>"
      ]
    },
    {
      "cell_type": "markdown",
      "metadata": {
        "id": "RmWPduk2eTLy"
      },
      "source": [
        "#Modelo:XGBoost#"
      ]
    },
    {
      "cell_type": "markdown",
      "metadata": {
        "id": "6dC21sGbeup8"
      },
      "source": [
        "Ensamble de tipo boosting."
      ]
    },
    {
      "cell_type": "markdown",
      "metadata": {
        "id": "G6WbC3XReZGf"
      },
      "source": [
        "##Inicialización##\n"
      ]
    },
    {
      "cell_type": "code",
      "metadata": {
        "id": "nPUpR4RtfGQi"
      },
      "source": [
        "import pandas as pd\n",
        "import numpy as np\n",
        "from matplotlib import pyplot as plt\n",
        "import matplotlib.patches as mpatches\n",
        "import matplotlib\n",
        "import seaborn as sns\n",
        "from xgboost import XGBClassifier"
      ],
      "execution_count": 15,
      "outputs": []
    },
    {
      "cell_type": "code",
      "metadata": {
        "colab": {
          "base_uri": "https://localhost:8080/"
        },
        "id": "_68fofkAfWam",
        "outputId": "6f07aed4-6f0a-444a-cbde-a85ead9ad5dc"
      },
      "source": [
        "!git clone https://github.com/solcanalla/fiumark.git\n",
        "!git pull origin main\n",
        "import fiumark.preprocessing as pp"
      ],
      "execution_count": 26,
      "outputs": [
        {
          "output_type": "stream",
          "text": [
            "Cloning into 'fiumark'...\n",
            "remote: Enumerating objects: 126, done.\u001b[K\n",
            "remote: Counting objects: 100% (126/126), done.\u001b[K\n",
            "remote: Compressing objects: 100% (107/107), done.\u001b[K\n",
            "remote: Total 126 (delta 69), reused 44 (delta 18), pack-reused 0\u001b[K\n",
            "Receiving objects: 100% (126/126), 34.72 KiB | 683.00 KiB/s, done.\n",
            "Resolving deltas: 100% (69/69), done.\n",
            "remote: Enumerating objects: 9, done.\u001b[K\n",
            "remote: Counting objects: 100% (9/9), done.\u001b[K\n",
            "remote: Compressing objects: 100% (7/7), done.\u001b[K\n",
            "remote: Total 8 (delta 3), reused 3 (delta 1), pack-reused 0\u001b[K\n",
            "Unpacking objects: 100% (8/8), done.\n",
            "From https://github.com/solcanalla/fiumark\n",
            " * branch            main       -> FETCH_HEAD\n",
            "   97ba6ff..26cf7ba  main       -> origin/main\n",
            "Updating 97ba6ff..26cf7ba\n",
            "error: The following untracked working tree files would be overwritten by merge:\n",
            "\txgboost.csv\n",
            "Please move or remove them before you merge.\n",
            "Aborting\n"
          ],
          "name": "stdout"
        }
      ]
    },
    {
      "cell_type": "markdown",
      "metadata": {
        "id": "wkMHT-1Te0_x"
      },
      "source": [
        "##Pre procesamiento##"
      ]
    },
    {
      "cell_type": "code",
      "metadata": {
        "id": "kuJXRj2afLhW"
      },
      "source": [
        "pd.options.display.max_columns = None\n",
        "df = pp.get_dataset()\n",
        "df = pp.knn_preprocessing(df)\n",
        "X_train, X_test, y_train, y_test = pp.get_train_test_data(df)"
      ],
      "execution_count": 17,
      "outputs": []
    },
    {
      "cell_type": "markdown",
      "metadata": {
        "id": "DG7eFzoUe25d"
      },
      "source": [
        "##Entrenamiento##"
      ]
    },
    {
      "cell_type": "code",
      "metadata": {
        "id": "vWUJW9DOnOFr"
      },
      "source": [
        "from sklearn.model_selection import GridSearchCV\n",
        "\n",
        "params = {\n",
        "    'n_estimators': np.arange(50,100,10),\n",
        "    'max_depth': np.arange(1, 10),\n",
        "    'min_child_weight': np.arange(1, 3)\n",
        "}\n",
        "\n",
        "clf = XGBClassifier()\n",
        "\n",
        "gscv = GridSearchCV(\n",
        "    clf, params, scoring='roc_auc', n_jobs=-1, cv=5, return_train_score=True\n",
        ").fit(X_train, y_train)"
      ],
      "execution_count": 19,
      "outputs": []
    },
    {
      "cell_type": "code",
      "metadata": {
        "colab": {
          "base_uri": "https://localhost:8080/"
        },
        "id": "kgPcburQoD9d",
        "outputId": "c71c5faf-b1b0-499e-8dd8-1f92e3bc304f"
      },
      "source": [
        "print(f\"Best score: {gscv.best_score_}\")\n",
        "print(f\"Best params {gscv.best_params_}\")"
      ],
      "execution_count": 20,
      "outputs": [
        {
          "output_type": "stream",
          "text": [
            "Best score: 0.8653038772069914\n",
            "Best params {'max_depth': 2, 'min_child_weight': 2, 'n_estimators': 60}\n"
          ],
          "name": "stdout"
        }
      ]
    },
    {
      "cell_type": "markdown",
      "metadata": {
        "id": "gyB3cGqRe6dD"
      },
      "source": [
        "##Evaluación del modelo##"
      ]
    },
    {
      "cell_type": "code",
      "metadata": {
        "id": "wRWd-XIvYOU-"
      },
      "source": [
        "y_pred = gscv.predict(X_test)"
      ],
      "execution_count": 21,
      "outputs": []
    },
    {
      "cell_type": "markdown",
      "metadata": {
        "id": "xJpJaDz8YTBH"
      },
      "source": [
        "###Precision recall y F1-score###"
      ]
    },
    {
      "cell_type": "code",
      "metadata": {
        "colab": {
          "base_uri": "https://localhost:8080/"
        },
        "id": "9vfFhTKQoeiF",
        "outputId": "8bbdc24c-6f8f-4c3b-b702-585bb7b3b10e"
      },
      "source": [
        "from sklearn.metrics import classification_report\n",
        "\n",
        "print(classification_report(y_test, y_pred))"
      ],
      "execution_count": 22,
      "outputs": [
        {
          "output_type": "stream",
          "text": [
            "              precision    recall  f1-score   support\n",
            "\n",
            "         0.0       0.78      0.96      0.86        70\n",
            "         1.0       0.91      0.63      0.74        51\n",
            "\n",
            "    accuracy                           0.82       121\n",
            "   macro avg       0.85      0.79      0.80       121\n",
            "weighted avg       0.84      0.82      0.81       121\n",
            "\n"
          ],
          "name": "stdout"
        }
      ]
    },
    {
      "cell_type": "markdown",
      "metadata": {
        "id": "IOjx81j_YW-9"
      },
      "source": [
        "###Accuracy###"
      ]
    },
    {
      "cell_type": "code",
      "metadata": {
        "colab": {
          "base_uri": "https://localhost:8080/"
        },
        "id": "w8paC2t6YhNv",
        "outputId": "694d6a07-3032-48fc-a38c-705ad554f944"
      },
      "source": [
        "from sklearn.metrics import accuracy_score\n",
        "accuracy = accuracy_score(y_test, y_pred)\n",
        "accuracy"
      ],
      "execution_count": 23,
      "outputs": [
        {
          "output_type": "execute_result",
          "data": {
            "text/plain": [
              "0.8181818181818182"
            ]
          },
          "metadata": {
            "tags": []
          },
          "execution_count": 23
        }
      ]
    },
    {
      "cell_type": "markdown",
      "metadata": {
        "id": "bdM2pYzYYY3g"
      },
      "source": [
        "###Auc-Roc###"
      ]
    },
    {
      "cell_type": "code",
      "metadata": {
        "colab": {
          "base_uri": "https://localhost:8080/"
        },
        "id": "G26krtZfYj64",
        "outputId": "6e00afc2-e499-4f0b-8d49-948c76f2b5c8"
      },
      "source": [
        "from sklearn.metrics import roc_auc_score\n",
        "auc_roc = roc_auc_score(y_test, y_pred)\n",
        "auc_roc"
      ],
      "execution_count": 24,
      "outputs": [
        {
          "output_type": "execute_result",
          "data": {
            "text/plain": [
              "0.792296918767507"
            ]
          },
          "metadata": {
            "tags": []
          },
          "execution_count": 24
        }
      ]
    },
    {
      "cell_type": "markdown",
      "metadata": {
        "id": "QRlqG6vVebwb"
      },
      "source": [
        "##Predicción##"
      ]
    },
    {
      "cell_type": "code",
      "metadata": {
        "colab": {
          "base_uri": "https://localhost:8080/",
          "height": 407
        },
        "id": "Z8Lzg8iroiqr",
        "outputId": "5b491544-995b-45aa-fb13-a8865e7cac83"
      },
      "source": [
        "X_holdout = pd.read_csv('https://drive.google.com/uc?export=download&id=1I980-_K9iOucJO26SG5_M8RELOQ5VB6A')\n",
        "X = pp.knn_preprocessing(X_holdout)\n",
        "prediction = pd.DataFrame(gscv.predict(X),columns=['volveria'],dtype=int)\n",
        "pred_formatted = pd.concat([X_holdout.id_usuario,prediction],axis=1)\n",
        "pred_formatted.to_csv('xgboost.csv')\n",
        "pred_formatted"
      ],
      "execution_count": 25,
      "outputs": [
        {
          "output_type": "execute_result",
          "data": {
            "text/html": [
              "<div>\n",
              "<style scoped>\n",
              "    .dataframe tbody tr th:only-of-type {\n",
              "        vertical-align: middle;\n",
              "    }\n",
              "\n",
              "    .dataframe tbody tr th {\n",
              "        vertical-align: top;\n",
              "    }\n",
              "\n",
              "    .dataframe thead th {\n",
              "        text-align: right;\n",
              "    }\n",
              "</style>\n",
              "<table border=\"1\" class=\"dataframe\">\n",
              "  <thead>\n",
              "    <tr style=\"text-align: right;\">\n",
              "      <th></th>\n",
              "      <th>id_usuario</th>\n",
              "      <th>volveria</th>\n",
              "    </tr>\n",
              "  </thead>\n",
              "  <tbody>\n",
              "    <tr>\n",
              "      <th>0</th>\n",
              "      <td>650</td>\n",
              "      <td>0</td>\n",
              "    </tr>\n",
              "    <tr>\n",
              "      <th>1</th>\n",
              "      <td>234</td>\n",
              "      <td>0</td>\n",
              "    </tr>\n",
              "    <tr>\n",
              "      <th>2</th>\n",
              "      <td>31</td>\n",
              "      <td>0</td>\n",
              "    </tr>\n",
              "    <tr>\n",
              "      <th>3</th>\n",
              "      <td>552</td>\n",
              "      <td>0</td>\n",
              "    </tr>\n",
              "    <tr>\n",
              "      <th>4</th>\n",
              "      <td>411</td>\n",
              "      <td>0</td>\n",
              "    </tr>\n",
              "    <tr>\n",
              "      <th>...</th>\n",
              "      <td>...</td>\n",
              "      <td>...</td>\n",
              "    </tr>\n",
              "    <tr>\n",
              "      <th>85</th>\n",
              "      <td>354</td>\n",
              "      <td>0</td>\n",
              "    </tr>\n",
              "    <tr>\n",
              "      <th>86</th>\n",
              "      <td>82</td>\n",
              "      <td>0</td>\n",
              "    </tr>\n",
              "    <tr>\n",
              "      <th>87</th>\n",
              "      <td>172</td>\n",
              "      <td>0</td>\n",
              "    </tr>\n",
              "    <tr>\n",
              "      <th>88</th>\n",
              "      <td>8</td>\n",
              "      <td>1</td>\n",
              "    </tr>\n",
              "    <tr>\n",
              "      <th>89</th>\n",
              "      <td>640</td>\n",
              "      <td>0</td>\n",
              "    </tr>\n",
              "  </tbody>\n",
              "</table>\n",
              "<p>90 rows × 2 columns</p>\n",
              "</div>"
            ],
            "text/plain": [
              "    id_usuario  volveria\n",
              "0          650         0\n",
              "1          234         0\n",
              "2           31         0\n",
              "3          552         0\n",
              "4          411         0\n",
              "..         ...       ...\n",
              "85         354         0\n",
              "86          82         0\n",
              "87         172         0\n",
              "88           8         1\n",
              "89         640         0\n",
              "\n",
              "[90 rows x 2 columns]"
            ]
          },
          "metadata": {
            "tags": []
          },
          "execution_count": 25
        }
      ]
    }
  ]
}