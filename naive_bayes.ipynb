{
  "nbformat": 4,
  "nbformat_minor": 0,
  "metadata": {
    "colab": {
      "name": "naive bayes.ipynb",
      "provenance": [],
      "authorship_tag": "ABX9TyNqHp67ef/TsiMW/LnLfRtk",
      "include_colab_link": true
    },
    "kernelspec": {
      "name": "python3",
      "display_name": "Python 3"
    }
  },
  "cells": [
    {
      "cell_type": "markdown",
      "metadata": {
        "id": "view-in-github",
        "colab_type": "text"
      },
      "source": [
        "<a href=\"https://colab.research.google.com/github/solcanalla/fiumark/blob/main/naive_bayes.ipynb\" target=\"_parent\"><img src=\"https://colab.research.google.com/assets/colab-badge.svg\" alt=\"Open In Colab\"/></a>"
      ]
    },
    {
      "cell_type": "markdown",
      "metadata": {
        "id": "vKkeFol27cdi"
      },
      "source": [
        "# Modelo: Naive Bayes #\n",
        "\n"
      ]
    },
    {
      "cell_type": "markdown",
      "metadata": {
        "id": "W8LPjgN_SfCB"
      },
      "source": [
        "##Inicialización##"
      ]
    },
    {
      "cell_type": "code",
      "metadata": {
        "id": "_HvAwpba7VqH"
      },
      "source": [
        "import pandas as pd\n",
        "import numpy as np\n",
        "from matplotlib import pyplot as plt\n",
        "import seaborn as sns\n",
        "from sklearn.naive_bayes import MultinomialNB\n",
        "from sklearn import metrics"
      ],
      "execution_count": 6,
      "outputs": []
    },
    {
      "cell_type": "code",
      "metadata": {
        "colab": {
          "base_uri": "https://localhost:8080/"
        },
        "id": "98yZBetj9NAC",
        "outputId": "44ab0982-904a-4963-b0f7-7226ec86594f"
      },
      "source": [
        "!git clone https://github.com/solcanalla/fiumark.git\n",
        "%cd fiumark\n",
        "!git pull origin main\n",
        "import preprocessing as pp"
      ],
      "execution_count": 2,
      "outputs": [
        {
          "output_type": "stream",
          "text": [
            "Cloning into 'fiumark'...\n",
            "remote: Enumerating objects: 234, done.\u001b[K\n",
            "remote: Counting objects: 100% (234/234), done.\u001b[K\n",
            "remote: Compressing objects: 100% (203/203), done.\u001b[K\n",
            "remote: Total 234 (delta 126), reused 67 (delta 30), pack-reused 0\u001b[K\n",
            "Receiving objects: 100% (234/234), 751.93 KiB | 6.60 MiB/s, done.\n",
            "Resolving deltas: 100% (126/126), done.\n",
            "/content/fiumark\n",
            "From https://github.com/solcanalla/fiumark\n",
            " * branch            main       -> FETCH_HEAD\n",
            "Already up to date.\n"
          ],
          "name": "stdout"
        }
      ]
    },
    {
      "cell_type": "markdown",
      "metadata": {
        "id": "iq9mnZDySDMf"
      },
      "source": [
        "##Pre procesamiento##"
      ]
    },
    {
      "cell_type": "code",
      "metadata": {
        "id": "MRKaMDdN7pd7"
      },
      "source": [
        "pd.options.display.max_columns = None\n",
        "df = pp.get_dataset()\n",
        "df = pp.common_preprocessing(df)\n",
        "X_train, X_test, y_train, y_test = pp.get_train_test_data(df)"
      ],
      "execution_count": 3,
      "outputs": []
    },
    {
      "cell_type": "markdown",
      "metadata": {
        "id": "FQp6Z0RRSN48"
      },
      "source": [
        "##Entrenamiento##"
      ]
    },
    {
      "cell_type": "code",
      "metadata": {
        "id": "cCSYQHxwRWK6"
      },
      "source": [
        "from sklearn.model_selection import GridSearchCV\n",
        "\n",
        "params = {\n",
        "    'alpha': np.arange(0.0001,1,0.001)\n",
        "}\n",
        "\n",
        "clf = MultinomialNB()\n",
        "\n",
        "gscv = GridSearchCV(\n",
        "    clf, params, scoring='roc_auc', n_jobs=-1, cv=5, return_train_score=True\n",
        ").fit(X_train, y_train)"
      ],
      "execution_count": 19,
      "outputs": []
    },
    {
      "cell_type": "code",
      "metadata": {
        "colab": {
          "base_uri": "https://localhost:8080/"
        },
        "id": "j3nV4gOBUcNQ",
        "outputId": "a1c9e5d4-6087-4531-e117-0e0db26a0fd1"
      },
      "source": [
        "print(f\"Best score: {gscv.best_score_}\")\n",
        "print(f\"Best params {gscv.best_params_}\")"
      ],
      "execution_count": 20,
      "outputs": [
        {
          "output_type": "stream",
          "text": [
            "Best score: 0.7745697555040115\n",
            "Best params {'alpha': 0.0741}\n"
          ],
          "name": "stdout"
        }
      ]
    },
    {
      "cell_type": "markdown",
      "metadata": {
        "id": "sN9pYjk4SUKM"
      },
      "source": [
        "##Evaluación del modelo##"
      ]
    },
    {
      "cell_type": "code",
      "metadata": {
        "id": "sBwk5IG_SyxY"
      },
      "source": [
        "y_pred = gscv.predict(X_test)"
      ],
      "execution_count": 21,
      "outputs": []
    },
    {
      "cell_type": "markdown",
      "metadata": {
        "id": "tUisZmNUS69S"
      },
      "source": [
        "###Precisión recall y F1-score##"
      ]
    },
    {
      "cell_type": "code",
      "metadata": {
        "colab": {
          "base_uri": "https://localhost:8080/"
        },
        "id": "1Ay7vkPqI7ii",
        "outputId": "a0be4b1e-db5c-4416-e81a-d24462362293"
      },
      "source": [
        "from sklearn.metrics import classification_report\n",
        "print(classification_report(y_test, y_pred))"
      ],
      "execution_count": 22,
      "outputs": [
        {
          "output_type": "stream",
          "text": [
            "              precision    recall  f1-score   support\n",
            "\n",
            "           0       0.66      0.89      0.76        70\n",
            "           1       0.70      0.37      0.49        51\n",
            "\n",
            "    accuracy                           0.67       121\n",
            "   macro avg       0.68      0.63      0.62       121\n",
            "weighted avg       0.68      0.67      0.64       121\n",
            "\n"
          ],
          "name": "stdout"
        }
      ]
    },
    {
      "cell_type": "markdown",
      "metadata": {
        "id": "bX2ckk-vTB7u"
      },
      "source": [
        "###Accuracy###"
      ]
    },
    {
      "cell_type": "code",
      "metadata": {
        "colab": {
          "base_uri": "https://localhost:8080/"
        },
        "id": "87EsUVufScEq",
        "outputId": "615aa3a5-c137-424b-c1d6-9a03faa500d5"
      },
      "source": [
        "from sklearn.metrics import accuracy_score\n",
        "accuracy = accuracy_score(y_test, y_pred)\n",
        "accuracy"
      ],
      "execution_count": 23,
      "outputs": [
        {
          "output_type": "execute_result",
          "data": {
            "text/plain": [
              "0.6694214876033058"
            ]
          },
          "metadata": {
            "tags": []
          },
          "execution_count": 23
        }
      ]
    },
    {
      "cell_type": "markdown",
      "metadata": {
        "id": "W0SAT2RSTYH3"
      },
      "source": [
        "###Auc-Roc###"
      ]
    },
    {
      "cell_type": "code",
      "metadata": {
        "colab": {
          "base_uri": "https://localhost:8080/"
        },
        "id": "ec8nPUDhTarD",
        "outputId": "c3490b09-2138-4038-982a-9e1894ca729d"
      },
      "source": [
        "from sklearn.metrics import roc_auc_score\n",
        "auc_roc = roc_auc_score(y_test, y_pred)\n",
        "auc_roc"
      ],
      "execution_count": 24,
      "outputs": [
        {
          "output_type": "execute_result",
          "data": {
            "text/plain": [
              "0.6291316526610644"
            ]
          },
          "metadata": {
            "tags": []
          },
          "execution_count": 24
        }
      ]
    },
    {
      "cell_type": "code",
      "metadata": {
        "id": "6ebrZg9fdSAk",
        "colab": {
          "base_uri": "https://localhost:8080/",
          "height": 279
        },
        "outputId": "0525bb76-5f6f-4998-cb5f-3bfca854300e"
      },
      "source": [
        "from sklearn.metrics import plot_roc_curve\n",
        "plot_roc_curve(gscv.best_estimator_, X_test, y_test)  \n",
        "plt.show()  "
      ],
      "execution_count": 25,
      "outputs": [
        {
          "output_type": "display_data",
          "data": {
            "image/png": "[encoded data removed]",
            "text/plain": [
              "<Figure size 432x288 with 1 Axes>"
            ]
          },
          "metadata": {
            "tags": [],
            "needs_background": "light"
          }
        }
      ]
    },
    {
      "cell_type": "markdown",
      "metadata": {
        "id": "u1qZzRFujilw"
      },
      "source": [
        "###Matriz de confusión###"
      ]
    },
    {
      "cell_type": "code",
      "metadata": {
        "colab": {
          "base_uri": "https://localhost:8080/",
          "height": 404
        },
        "id": "cQWXAiWUjmXU",
        "outputId": "dbebb345-83b8-4ec2-97b9-414e7bf402ca"
      },
      "source": [
        "from sklearn.metrics import confusion_matrix\n",
        "\n",
        "def plot_confusion_matrix(y_true, y_pred):\n",
        "    names = sorted(set(y_true))\n",
        "    cm = confusion_matrix(y_true, y_pred, names)\n",
        "    df_cm = pd.DataFrame(cm, names, names)\n",
        "\n",
        "    plt.figure(dpi=100)\n",
        "    plt.title(\"Matriz de confusion\")\n",
        "    sns.heatmap(df_cm, annot=True, annot_kws={\"size\": 16}, fmt='g', square=True)\n",
        "    plt.ylabel(\"True label\")\n",
        "    plt.xlabel(\"Predicted label\")\n",
        "    plt.show()\n",
        "\n",
        "\n",
        "plot_confusion_matrix(y_test, y_pred)"
      ],
      "execution_count": 26,
      "outputs": [
        {
          "output_type": "display_data",
          "data": {
            "image/png": "[encoded data removed]",
            "text/plain": [
              "<Figure size 600x400 with 2 Axes>"
            ]
          },
          "metadata": {
            "tags": [],
            "needs_background": "light"
          }
        }
      ]
    },
    {
      "cell_type": "markdown",
      "metadata": {
        "id": "iQnKI2SLSZnq"
      },
      "source": [
        "##Predicción##"
      ]
    },
    {
      "cell_type": "code",
      "metadata": {
        "colab": {
          "base_uri": "https://localhost:8080/",
          "height": 419
        },
        "id": "mLhyPYaiJ8MR",
        "outputId": "70051dab-8506-44ce-aebd-f3702e92d9dd"
      },
      "source": [
        "X_holdout = pd.read_csv('https://drive.google.com/uc?export=download&id=1I980-_K9iOucJO26SG5_M8RELOQ5VB6A')\n",
        "X_holdout = pp.common_preprocessing(X_holdout)\n",
        "df2 = pd.DataFrame(gscv.predict(X_holdout),columns=['volveria'])\n",
        "df3 = pd.concat([X_holdout.id_usuario,df2],axis=1)\n",
        "df3.to_csv('naivebayes.csv')\n",
        "df3"
      ],
      "execution_count": 27,
      "outputs": [
        {
          "output_type": "execute_result",
          "data": {
            "text/html": [
              "<div>\n",
              "<style scoped>\n",
              "    .dataframe tbody tr th:only-of-type {\n",
              "        vertical-align: middle;\n",
              "    }\n",
              "\n",
              "    .dataframe tbody tr th {\n",
              "        vertical-align: top;\n",
              "    }\n",
              "\n",
              "    .dataframe thead th {\n",
              "        text-align: right;\n",
              "    }\n",
              "</style>\n",
              "<table border=\"1\" class=\"dataframe\">\n",
              "  <thead>\n",
              "    <tr style=\"text-align: right;\">\n",
              "      <th></th>\n",
              "      <th>id_usuario</th>\n",
              "      <th>volveria</th>\n",
              "    </tr>\n",
              "  </thead>\n",
              "  <tbody>\n",
              "    <tr>\n",
              "      <th>0</th>\n",
              "      <td>650</td>\n",
              "      <td>0</td>\n",
              "    </tr>\n",
              "    <tr>\n",
              "      <th>1</th>\n",
              "      <td>234</td>\n",
              "      <td>1</td>\n",
              "    </tr>\n",
              "    <tr>\n",
              "      <th>2</th>\n",
              "      <td>31</td>\n",
              "      <td>1</td>\n",
              "    </tr>\n",
              "    <tr>\n",
              "      <th>3</th>\n",
              "      <td>552</td>\n",
              "      <td>0</td>\n",
              "    </tr>\n",
              "    <tr>\n",
              "      <th>4</th>\n",
              "      <td>411</td>\n",
              "      <td>0</td>\n",
              "    </tr>\n",
              "    <tr>\n",
              "      <th>...</th>\n",
              "      <td>...</td>\n",
              "      <td>...</td>\n",
              "    </tr>\n",
              "    <tr>\n",
              "      <th>85</th>\n",
              "      <td>354</td>\n",
              "      <td>0</td>\n",
              "    </tr>\n",
              "    <tr>\n",
              "      <th>86</th>\n",
              "      <td>82</td>\n",
              "      <td>0</td>\n",
              "    </tr>\n",
              "    <tr>\n",
              "      <th>87</th>\n",
              "      <td>172</td>\n",
              "      <td>1</td>\n",
              "    </tr>\n",
              "    <tr>\n",
              "      <th>88</th>\n",
              "      <td>8</td>\n",
              "      <td>0</td>\n",
              "    </tr>\n",
              "    <tr>\n",
              "      <th>89</th>\n",
              "      <td>640</td>\n",
              "      <td>0</td>\n",
              "    </tr>\n",
              "  </tbody>\n",
              "</table>\n",
              "<p>90 rows × 2 columns</p>\n",
              "</div>"
            ],
            "text/plain": [
              "    id_usuario  volveria\n",
              "0          650         0\n",
              "1          234         1\n",
              "2           31         1\n",
              "3          552         0\n",
              "4          411         0\n",
              "..         ...       ...\n",
              "85         354         0\n",
              "86          82         0\n",
              "87         172         1\n",
              "88           8         0\n",
              "89         640         0\n",
              "\n",
              "[90 rows x 2 columns]"
            ]
          },
          "metadata": {
            "tags": []
          },
          "execution_count": 27
        }
      ]
    }
  ]
}