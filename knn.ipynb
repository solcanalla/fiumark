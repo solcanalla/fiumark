{
  "nbformat": 4,
  "nbformat_minor": 0,
  "metadata": {
    "colab": {
      "name": "knn.ipynb",
      "provenance": [],
      "include_colab_link": true
    },
    "kernelspec": {
      "name": "python3",
      "display_name": "Python 3"
    }
  },
  "cells": [
    {
      "cell_type": "markdown",
      "metadata": {
        "id": "view-in-github",
        "colab_type": "text"
      },
      "source": [
        "<a href=\"https://colab.research.google.com/github/solcanalla/fiumark/blob/main/knn.ipynb\" target=\"_parent\"><img src=\"https://colab.research.google.com/assets/colab-badge.svg\" alt=\"Open In Colab\"/></a>"
      ]
    },
    {
      "cell_type": "markdown",
      "metadata": {
        "id": "dus6jp6ye8qM"
      },
      "source": [
        "# Modelo: KNN #\n"
      ]
    },
    {
      "cell_type": "markdown",
      "metadata": {
        "id": "0NYXfSJcfES6"
      },
      "source": [
        "##Inicialización##"
      ]
    },
    {
      "cell_type": "code",
      "metadata": {
        "id": "Gi1mZ4Y5uLnO"
      },
      "source": [
        "import pandas as pd\n",
        "import numpy as np\n",
        "from matplotlib import pyplot as plt\n",
        "import seaborn as sns\n",
        "from sklearn import metrics\n",
        "from sklearn.neighbors import KNeighborsClassifier"
      ],
      "execution_count": 7,
      "outputs": []
    },
    {
      "cell_type": "code",
      "metadata": {
        "colab": {
          "base_uri": "https://localhost:8080/"
        },
        "id": "5umq8M85rFJK",
        "outputId": "e510165a-e8f4-450e-ff0d-e2f4bbff804e"
      },
      "source": [
        "!git clone https://github.com/solcanalla/fiumark.git\n",
        "%cd fiumark\n",
        "!git pull origin main\n",
        "import preprocessing as pp"
      ],
      "execution_count": 8,
      "outputs": [
        {
          "output_type": "stream",
          "text": [
            "Cloning into 'fiumark'...\n",
            "remote: Enumerating objects: 272, done.\u001b[K\n",
            "remote: Total 272 (delta 0), reused 0 (delta 0), pack-reused 272\u001b[K\n",
            "Receiving objects: 100% (272/272), 1.19 MiB | 13.39 MiB/s, done.\n",
            "Resolving deltas: 100% (149/149), done.\n",
            "/content/fiumark/fiumark\n",
            "From https://github.com/solcanalla/fiumark\n",
            " * branch            main       -> FETCH_HEAD\n",
            "Already up to date.\n"
          ],
          "name": "stdout"
        }
      ]
    },
    {
      "cell_type": "markdown",
      "metadata": {
        "id": "QRyjc1nni2VK"
      },
      "source": [
        "##Modelo 1##"
      ]
    },
    {
      "cell_type": "markdown",
      "metadata": {
        "id": "Ak4SnJy6fFaG"
      },
      "source": [
        "###Pre procesamiento###"
      ]
    },
    {
      "cell_type": "markdown",
      "metadata": {
        "id": "YngH4oTW5BUW"
      },
      "source": [
        "Para KNN es importante escalar los datos. "
      ]
    },
    {
      "cell_type": "code",
      "metadata": {
        "id": "LtnoMZGSZmjh"
      },
      "source": [
        "pd.options.display.max_columns = None\n",
        "\n",
        "df = pp.get_dataset()\n",
        "df1 = pp.knn_preprocessing(df)\n",
        "X_train1, X_test1, y_train1, y_test1 = pp.get_train_test_data(df1)\n"
      ],
      "execution_count": 9,
      "outputs": []
    },
    {
      "cell_type": "markdown",
      "metadata": {
        "id": "2A6m34gefKyk"
      },
      "source": [
        "###Entrenamiento###"
      ]
    },
    {
      "cell_type": "code",
      "metadata": {
        "id": "RwD1g5PjvzvG"
      },
      "source": [
        "from sklearn.model_selection import GridSearchCV\n",
        "\n",
        "params = {\n",
        "    'n_neighbors': np.arange(2, 20),\n",
        "    'weights': ['uniform', 'distance'],\n",
        "    'metric': ['cosine','minkowski'],\n",
        "    'algorithm':['ball_tree','kd_tree','brute']\n",
        "}\n",
        "\n",
        "clf = KNeighborsClassifier()\n",
        "\n",
        "gscv1 = GridSearchCV(\n",
        "    clf, params, scoring='roc_auc', n_jobs=-1, cv=5, return_train_score=True\n",
        ").fit(X_train1, y_train1)"
      ],
      "execution_count": 10,
      "outputs": []
    },
    {
      "cell_type": "code",
      "metadata": {
        "colab": {
          "base_uri": "https://localhost:8080/"
        },
        "id": "Iy61HZrmzEE6",
        "outputId": "9e202dfb-bb61-481e-919e-77ec6c7279b9"
      },
      "source": [
        "print(f\"Best score: {gscv1.best_score_}\")\n",
        "print(f\"Best params {gscv1.best_params_}\")"
      ],
      "execution_count": 11,
      "outputs": [
        {
          "output_type": "stream",
          "text": [
            "Best score: 0.8386488404697323\n",
            "Best params {'algorithm': 'ball_tree', 'metric': 'minkowski', 'n_neighbors': 16, 'weights': 'distance'}\n"
          ],
          "name": "stdout"
        }
      ]
    },
    {
      "cell_type": "markdown",
      "metadata": {
        "id": "eitTYd22lm-7"
      },
      "source": [
        "##Modelo 2##"
      ]
    },
    {
      "cell_type": "markdown",
      "metadata": {
        "id": "HB-6WALplm_D"
      },
      "source": [
        "###Pre procesamiento###"
      ]
    },
    {
      "cell_type": "markdown",
      "metadata": {
        "id": "_zW7818dlm_D"
      },
      "source": [
        "Para KNN es importante escalar los datos. "
      ]
    },
    {
      "cell_type": "code",
      "metadata": {
        "id": "Gplr7qUilm_D"
      },
      "source": [
        "pd.options.display.max_columns = None\n",
        "\n",
        "df = pp.get_dataset()\n",
        "df2 = pp.scaler_min_features_preprocessing(df)\n",
        "X_train2, X_test2, y_train2, y_test2 = pp.get_train_test_data(df2)\n"
      ],
      "execution_count": 12,
      "outputs": []
    },
    {
      "cell_type": "markdown",
      "metadata": {
        "id": "GtnpwMrtlm_E"
      },
      "source": [
        "###Entrenamiento###"
      ]
    },
    {
      "cell_type": "code",
      "metadata": {
        "id": "fPZILtg0lm_E"
      },
      "source": [
        "from sklearn.model_selection import GridSearchCV\n",
        "\n",
        "params = {\n",
        "    'n_neighbors': np.arange(2, 20),\n",
        "    'weights': ['uniform', 'distance'],\n",
        "    'metric': ['cosine','minkowski'],\n",
        "    'algorithm':['ball_tree','kd_tree','brute']\n",
        "}\n",
        "\n",
        "clf = KNeighborsClassifier()\n",
        "\n",
        "gscv2 = GridSearchCV(\n",
        "    clf, params, scoring='roc_auc', n_jobs=-1, cv=5, return_train_score=True\n",
        ").fit(X_train2, y_train2)"
      ],
      "execution_count": 13,
      "outputs": []
    },
    {
      "cell_type": "code",
      "metadata": {
        "colab": {
          "base_uri": "https://localhost:8080/"
        },
        "id": "Y_ucREZelm_E",
        "outputId": "13f301af-6701-41ff-9f5d-b6bf66b1cbaf"
      },
      "source": [
        "print(f\"Best score: {gscv2.best_score_}\")\n",
        "print(f\"Best params {gscv2.best_params_}\")"
      ],
      "execution_count": 14,
      "outputs": [
        {
          "output_type": "stream",
          "text": [
            "Best score: 0.8372580230668216\n",
            "Best params {'algorithm': 'brute', 'metric': 'minkowski', 'n_neighbors': 13, 'weights': 'distance'}\n"
          ],
          "name": "stdout"
        }
      ]
    },
    {
      "cell_type": "markdown",
      "metadata": {
        "id": "aa-CKBanfMTW"
      },
      "source": [
        "##Evaluación del modelo##"
      ]
    },
    {
      "cell_type": "code",
      "metadata": {
        "id": "Mn3tbA8XUaoQ"
      },
      "source": [
        "y_pred = gscv1.predict(X_test1)"
      ],
      "execution_count": 15,
      "outputs": []
    },
    {
      "cell_type": "markdown",
      "metadata": {
        "id": "thLdlLWLUl9n"
      },
      "source": [
        "###Precision recall y F1-score###"
      ]
    },
    {
      "cell_type": "code",
      "metadata": {
        "colab": {
          "base_uri": "https://localhost:8080/"
        },
        "id": "PFJww04U9uJQ",
        "outputId": "52ffc31d-537a-4715-a906-de2541112a42"
      },
      "source": [
        "from sklearn.metrics import classification_report\n",
        "\n",
        "print(classification_report(y_test1, y_pred))"
      ],
      "execution_count": 16,
      "outputs": [
        {
          "output_type": "stream",
          "text": [
            "              precision    recall  f1-score   support\n",
            "\n",
            "         0.0       0.81      0.92      0.86        95\n",
            "         1.0       0.85      0.68      0.76        66\n",
            "\n",
            "    accuracy                           0.82       161\n",
            "   macro avg       0.83      0.80      0.81       161\n",
            "weighted avg       0.82      0.82      0.82       161\n",
            "\n"
          ],
          "name": "stdout"
        }
      ]
    },
    {
      "cell_type": "markdown",
      "metadata": {
        "id": "ECdIV64IUtfV"
      },
      "source": [
        "###Accuracy###"
      ]
    },
    {
      "cell_type": "code",
      "metadata": {
        "colab": {
          "base_uri": "https://localhost:8080/"
        },
        "id": "MZd63t5BUtMM",
        "outputId": "a2ae095d-ca9e-4ad8-f37b-2ed6eb6b177b"
      },
      "source": [
        "from sklearn.metrics import accuracy_score\n",
        "accuracy = accuracy_score(y_test1, y_pred)\n",
        "accuracy"
      ],
      "execution_count": 17,
      "outputs": [
        {
          "output_type": "execute_result",
          "data": {
            "text/plain": [
              "0.8198757763975155"
            ]
          },
          "metadata": {
            "tags": []
          },
          "execution_count": 17
        }
      ]
    },
    {
      "cell_type": "markdown",
      "metadata": {
        "id": "mWe323I4Uv6f"
      },
      "source": [
        "###Auc-Roc###"
      ]
    },
    {
      "cell_type": "code",
      "metadata": {
        "colab": {
          "base_uri": "https://localhost:8080/"
        },
        "id": "hd8DWAKjU21W",
        "outputId": "175c17de-fd63-43ef-dcb4-b39b860334b3"
      },
      "source": [
        "from sklearn.metrics import roc_auc_score\n",
        "auc_roc = roc_auc_score(y_test1, y_pred)\n",
        "auc_roc"
      ],
      "execution_count": 18,
      "outputs": [
        {
          "output_type": "execute_result",
          "data": {
            "text/plain": [
              "0.7988038277511961"
            ]
          },
          "metadata": {
            "tags": []
          },
          "execution_count": 18
        }
      ]
    },
    {
      "cell_type": "code",
      "metadata": {
        "colab": {
          "base_uri": "https://localhost:8080/",
          "height": 279
        },
        "id": "4y1xqQTTkhCO",
        "outputId": "8aa1711f-e435-4bda-df3e-5645f79d6ed7"
      },
      "source": [
        "from sklearn.metrics import plot_roc_curve\n",
        "plot_roc_curve(gscv1.best_estimator_, X_test1, y_test1)  \n",
        "plt.show() "
      ],
      "execution_count": 21,
      "outputs": [
        {
          "output_type": "display_data",
          "data": {
            "image/png": "[encoded data removed]",
            "text/plain": [
              "<Figure size 432x288 with 1 Axes>"
            ]
          },
          "metadata": {
            "tags": [],
            "needs_background": "light"
          }
        }
      ]
    },
    {
      "cell_type": "markdown",
      "metadata": {
        "id": "FO0bi3dikD35"
      },
      "source": [
        "###Matriz de confusión###"
      ]
    },
    {
      "cell_type": "code",
      "metadata": {
        "colab": {
          "base_uri": "https://localhost:8080/",
          "height": 404
        },
        "id": "KgsN5-yxkGRp",
        "outputId": "24a56ddb-44b2-4b5f-9d15-f4d39bafa0f1"
      },
      "source": [
        "from sklearn.metrics import confusion_matrix\n",
        "\n",
        "def plot_confusion_matrix(y_true, y_pred):\n",
        "    names = sorted(set(y_true))\n",
        "    cm = confusion_matrix(y_true, y_pred, names)\n",
        "    df_cm = pd.DataFrame(cm, names, names)\n",
        "\n",
        "    plt.figure(dpi=100)\n",
        "    plt.title(\"Matriz de confusion\")\n",
        "    sns.heatmap(df_cm, annot=True, annot_kws={\"size\": 16}, fmt='g', square=True)\n",
        "    plt.ylabel(\"True label\")\n",
        "    plt.xlabel(\"Predicted label\")\n",
        "    plt.show()\n",
        "\n",
        "\n",
        "plot_confusion_matrix(y_test1, y_pred)"
      ],
      "execution_count": 22,
      "outputs": [
        {
          "output_type": "display_data",
          "data": {
            "image/png": "[encoded data removed]",
            "text/plain": [
              "<Figure size 600x400 with 2 Axes>"
            ]
          },
          "metadata": {
            "tags": [],
            "needs_background": "light"
          }
        }
      ]
    },
    {
      "cell_type": "markdown",
      "metadata": {
        "id": "z05MUhIQfQcd"
      },
      "source": [
        "##Predicción##"
      ]
    },
    {
      "cell_type": "code",
      "metadata": {
        "id": "6ZRYdnwreND2",
        "colab": {
          "base_uri": "https://localhost:8080/",
          "height": 419
        },
        "outputId": "1fe06db6-4cac-453e-8b0a-e4b3af7df3ce"
      },
      "source": [
        "X_holdout = pd.read_csv('https://drive.google.com/uc?export=download&id=1I980-_K9iOucJO26SG5_M8RELOQ5VB6A')\n",
        "X = pp.knn_preprocessing(X_holdout)\n",
        "prediction = pd.DataFrame(gscv1.predict(X),columns=['volveria'],dtype=int)\n",
        "pred_formatted = pd.concat([X_holdout.id_usuario,prediction],axis=1)\n",
        "pred_formatted.to_csv('knn.csv')\n",
        "pred_formatted"
      ],
      "execution_count": 23,
      "outputs": [
        {
          "output_type": "execute_result",
          "data": {
            "text/html": [
              "<div>\n",
              "<style scoped>\n",
              "    .dataframe tbody tr th:only-of-type {\n",
              "        vertical-align: middle;\n",
              "    }\n",
              "\n",
              "    .dataframe tbody tr th {\n",
              "        vertical-align: top;\n",
              "    }\n",
              "\n",
              "    .dataframe thead th {\n",
              "        text-align: right;\n",
              "    }\n",
              "</style>\n",
              "<table border=\"1\" class=\"dataframe\">\n",
              "  <thead>\n",
              "    <tr style=\"text-align: right;\">\n",
              "      <th></th>\n",
              "      <th>id_usuario</th>\n",
              "      <th>volveria</th>\n",
              "    </tr>\n",
              "  </thead>\n",
              "  <tbody>\n",
              "    <tr>\n",
              "      <th>0</th>\n",
              "      <td>650</td>\n",
              "      <td>0</td>\n",
              "    </tr>\n",
              "    <tr>\n",
              "      <th>1</th>\n",
              "      <td>234</td>\n",
              "      <td>0</td>\n",
              "    </tr>\n",
              "    <tr>\n",
              "      <th>2</th>\n",
              "      <td>31</td>\n",
              "      <td>0</td>\n",
              "    </tr>\n",
              "    <tr>\n",
              "      <th>3</th>\n",
              "      <td>552</td>\n",
              "      <td>0</td>\n",
              "    </tr>\n",
              "    <tr>\n",
              "      <th>4</th>\n",
              "      <td>411</td>\n",
              "      <td>0</td>\n",
              "    </tr>\n",
              "    <tr>\n",
              "      <th>...</th>\n",
              "      <td>...</td>\n",
              "      <td>...</td>\n",
              "    </tr>\n",
              "    <tr>\n",
              "      <th>85</th>\n",
              "      <td>354</td>\n",
              "      <td>0</td>\n",
              "    </tr>\n",
              "    <tr>\n",
              "      <th>86</th>\n",
              "      <td>82</td>\n",
              "      <td>0</td>\n",
              "    </tr>\n",
              "    <tr>\n",
              "      <th>87</th>\n",
              "      <td>172</td>\n",
              "      <td>0</td>\n",
              "    </tr>\n",
              "    <tr>\n",
              "      <th>88</th>\n",
              "      <td>8</td>\n",
              "      <td>0</td>\n",
              "    </tr>\n",
              "    <tr>\n",
              "      <th>89</th>\n",
              "      <td>640</td>\n",
              "      <td>0</td>\n",
              "    </tr>\n",
              "  </tbody>\n",
              "</table>\n",
              "<p>90 rows × 2 columns</p>\n",
              "</div>"
            ],
            "text/plain": [
              "    id_usuario  volveria\n",
              "0          650         0\n",
              "1          234         0\n",
              "2           31         0\n",
              "3          552         0\n",
              "4          411         0\n",
              "..         ...       ...\n",
              "85         354         0\n",
              "86          82         0\n",
              "87         172         0\n",
              "88           8         0\n",
              "89         640         0\n",
              "\n",
              "[90 rows x 2 columns]"
            ]
          },
          "metadata": {
            "tags": []
          },
          "execution_count": 23
        }
      ]
    }
  ]
}