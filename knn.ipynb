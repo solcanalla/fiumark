{
  "nbformat": 4,
  "nbformat_minor": 0,
  "metadata": {
    "colab": {
      "name": "knn.ipynb",
      "provenance": [],
      "include_colab_link": true
    },
    "kernelspec": {
      "name": "python3",
      "display_name": "Python 3"
    }
  },
  "cells": [
    {
      "cell_type": "markdown",
      "metadata": {
        "id": "view-in-github",
        "colab_type": "text"
      },
      "source": [
        "<a href=\"https://colab.research.google.com/github/solcanalla/fiumark/blob/main/knn.ipynb\" target=\"_parent\"><img src=\"https://colab.research.google.com/assets/colab-badge.svg\" alt=\"Open In Colab\"/></a>"
      ]
    },
    {
      "cell_type": "markdown",
      "metadata": {
        "id": "dus6jp6ye8qM"
      },
      "source": [
        "# Modelo: KNN #\n"
      ]
    },
    {
      "cell_type": "markdown",
      "metadata": {
        "id": "0NYXfSJcfES6"
      },
      "source": [
        "##Inicialización##"
      ]
    },
    {
      "cell_type": "code",
      "metadata": {
        "id": "Gi1mZ4Y5uLnO"
      },
      "source": [
        "import pandas as pd\n",
        "import numpy as np\n",
        "from matplotlib import pyplot as plt\n",
        "import matplotlib.patches as mpatches\n",
        "import matplotlib\n",
        "import seaborn as sns\n",
        "from sklearn.metrics import accuracy_score\n",
        "from sklearn.neighbors import KNeighborsClassifier"
      ],
      "execution_count": null,
      "outputs": []
    },
    {
      "cell_type": "markdown",
      "metadata": {
        "id": "Ak4SnJy6fFaG"
      },
      "source": [
        "##Pre procesamiento##"
      ]
    },
    {
      "cell_type": "code",
      "metadata": {
        "colab": {
          "base_uri": "https://localhost:8080/"
        },
        "id": "5umq8M85rFJK",
        "outputId": "0e7b90e1-0bee-471c-a7a3-5888fd241051"
      },
      "source": [
        "#muy suceptible al ruido\n",
        "!git clone https://github.com/solcanalla/fiumark.git\n",
        "%cd fiumark\n",
        "!git pull origin main\n",
        "import preprocessing as pp"
      ],
      "execution_count": null,
      "outputs": [
        {
          "output_type": "stream",
          "text": [
            "fatal: destination path 'fiumark' already exists and is not an empty directory.\n",
            "/content/fiumark\n",
            "From https://github.com/solcanalla/fiumark\n",
            " * branch            main       -> FETCH_HEAD\n",
            "Already up to date.\n"
          ],
          "name": "stdout"
        }
      ]
    },
    {
      "cell_type": "markdown",
      "metadata": {
        "id": "YngH4oTW5BUW"
      },
      "source": [
        "Para KNN es importante escalar los datos. "
      ]
    },
    {
      "cell_type": "code",
      "metadata": {
        "id": "LtnoMZGSZmjh"
      },
      "source": [
        "pd.options.display.max_columns = None\n",
        "\n",
        "df = pp.get_dataset()\n",
        "ohe = pp.get_ohe_fit(df)\n",
        "X_train, X_test, y_train, y_test = pp.get_train_test_data(df)\n",
        "X_train = pp.knn_preprocessing(X_train,ohe)\n"
      ],
      "execution_count": null,
      "outputs": []
    },
    {
      "cell_type": "markdown",
      "metadata": {
        "id": "2A6m34gefKyk"
      },
      "source": [
        "##Entrenamiento##"
      ]
    },
    {
      "cell_type": "code",
      "metadata": {
        "id": "RwD1g5PjvzvG"
      },
      "source": [
        "from sklearn.model_selection import RandomizedSearchCV\n",
        "\n",
        "params = {\n",
        "    'n_neighbors': np.arange(1, 100),\n",
        "    'weights': ['uniform', 'distance'],\n",
        "    'metric': ['cosine','minkowski'],\n",
        "    'algorithm':['ball_tree','kd_tree','brute']\n",
        "}\n",
        "\n",
        "clf = KNeighborsClassifier()\n",
        "\n",
        "rgscv = RandomizedSearchCV(\n",
        "    clf, params, n_iter=200, scoring='accuracy', n_jobs=-1, cv=5, return_train_score=True\n",
        ").fit(X_train, y_train)"
      ],
      "execution_count": null,
      "outputs": []
    },
    {
      "cell_type": "code",
      "metadata": {
        "colab": {
          "base_uri": "https://localhost:8080/"
        },
        "id": "Iy61HZrmzEE6",
        "outputId": "ea6fe52a-7fb5-440c-ccdd-72f601df7f12"
      },
      "source": [
        "print(f\"Best score: {rgscv.best_score_}\")\n",
        "print(f\"Best params {rgscv.best_params_}\")"
      ],
      "execution_count": null,
      "outputs": [
        {
          "output_type": "stream",
          "text": [
            "Best score: 0.8102941176470587\n",
            "Best params {'weights': 'uniform', 'n_neighbors': 20, 'metric': 'minkowski', 'algorithm': 'ball_tree'}\n"
          ],
          "name": "stdout"
        }
      ]
    },
    {
      "cell_type": "markdown",
      "metadata": {
        "id": "aa-CKBanfMTW"
      },
      "source": [
        "##Evaluación del modelo##"
      ]
    },
    {
      "cell_type": "code",
      "metadata": {
        "colab": {
          "base_uri": "https://localhost:8080/"
        },
        "id": "PFJww04U9uJQ",
        "outputId": "8e0334ed-10b5-44f8-95aa-b8235b17c15e"
      },
      "source": [
        "from sklearn.metrics import classification_report\n",
        "\n",
        "X_test = pp.knn_preprocessing(X_test,ohe)\n",
        "print(classification_report(y_test, rgscv.predict(X_test)))"
      ],
      "execution_count": null,
      "outputs": [
        {
          "output_type": "stream",
          "text": [
            "              precision    recall  f1-score   support\n",
            "\n",
            "           0       0.77      0.96      0.85        70\n",
            "           1       0.91      0.61      0.73        51\n",
            "\n",
            "    accuracy                           0.81       121\n",
            "   macro avg       0.84      0.78      0.79       121\n",
            "weighted avg       0.83      0.81      0.80       121\n",
            "\n"
          ],
          "name": "stdout"
        }
      ]
    },
    {
      "cell_type": "markdown",
      "metadata": {
        "id": "z05MUhIQfQcd"
      },
      "source": [
        "##Predicción##"
      ]
    },
    {
      "cell_type": "code",
      "metadata": {
        "id": "-kTL5YcBGIGC"
      },
      "source": [
        "#File for preprocessing data\n",
        "import pandas as pd\n",
        "import numpy as np\n",
        "from sklearn.impute import SimpleImputer\n",
        "from sklearn.model_selection import train_test_split\n",
        "from sklearn.preprocessing import (\n",
        "\tLabelEncoder,\n",
        "\tOneHotEncoder,\n",
        "\tNormalizer,\n",
        "\tMinMaxScaler\n",
        ")"
      ],
      "execution_count": null,
      "outputs": []
    },
    {
      "cell_type": "code",
      "metadata": {
        "id": "YeZFD52kAcfJ"
      },
      "source": [
        "def common_preprocessing(df):\n",
        "\t#Reseteo el indice por si entro con el train \n",
        "\tdf.reset_index(inplace=True,drop=True)\n",
        "\tohe = OneHotEncoder(drop='first')\n",
        "\tohe = ohe.fit(df[['genero','fila','nombre_sede','tipo_de_sala']].astype(str))\n",
        "\t#Clean\n",
        "\tdel df['nombre']\n",
        "\n",
        "\t#Missing values\n",
        "\t#edad 20%\n",
        "\t#fila 80%\n",
        "\t#nombre_sede 0.2%\n",
        "\n",
        "\tmedian_imputer = SimpleImputer(strategy='median')\n",
        "\tedad_filled = median_imputer.fit_transform(df[['edad']])\n",
        "\tfilled = pd.DataFrame(edad_filled).add_prefix('edad_')\n",
        "\tdf = pd.concat([df, filled], axis=1)\n",
        "\tdel df['edad']\n",
        "\n",
        "\t#Categoricas con baja cardinalidad\n",
        "\t#genero, nombre de sede, tipo de sala y fila.\n",
        "\n",
        "\t#Encondeo sin orden\n",
        "\tmatrix_result = ohe.transform(df[['genero','fila','nombre_sede','tipo_de_sala']].astype(str)).todense().astype(int)\n",
        "\tdf = pd.concat([df, pd.DataFrame(matrix_result)], axis=1)\n",
        "\n",
        "\tdel df['genero']\n",
        "\tdel df['nombre_sede']\n",
        "\tdel df['tipo_de_sala']\n",
        "\tdel df['fila']\n",
        "\n",
        "\t#Categóricas de alta cardinalidad\n",
        "\tdel df['id_ticket']\n",
        "\n",
        "\treturn df"
      ],
      "execution_count": null,
      "outputs": []
    },
    {
      "cell_type": "code",
      "metadata": {
        "id": "s8Jo0Kc-FVWx"
      },
      "source": [
        "def knn_preprocessing(X):\n",
        "\tX = common_preprocessing(X) #Si normalizo tengo 0.7\n",
        "\tX = MinMaxScaler().fit_transform(X)\n",
        "\treturn X"
      ],
      "execution_count": null,
      "outputs": []
    },
    {
      "cell_type": "code",
      "metadata": {
        "id": "6ZRYdnwreND2",
        "colab": {
          "base_uri": "https://localhost:8080/",
          "height": 407
        },
        "outputId": "5e312d08-316f-49b0-c2c4-318cb175101b"
      },
      "source": [
        "X_holdout = pd.read_csv('https://drive.google.com/uc?export=download&id=1I980-_K9iOucJO26SG5_M8RELOQ5VB6A')\n",
        "X = knn_preprocessing(X_holdout)\n",
        "df2 = pd.DataFrame(rgscv.predict(X))\n",
        "df3 = pd.concat([X_holdout.id_usuario,df2],axis=1)\n",
        "df3.to_csv('knn.csv')\n",
        "df3"
      ],
      "execution_count": null,
      "outputs": [
        {
          "output_type": "execute_result",
          "data": {
            "text/html": [
              "<div>\n",
              "<style scoped>\n",
              "    .dataframe tbody tr th:only-of-type {\n",
              "        vertical-align: middle;\n",
              "    }\n",
              "\n",
              "    .dataframe tbody tr th {\n",
              "        vertical-align: top;\n",
              "    }\n",
              "\n",
              "    .dataframe thead th {\n",
              "        text-align: right;\n",
              "    }\n",
              "</style>\n",
              "<table border=\"1\" class=\"dataframe\">\n",
              "  <thead>\n",
              "    <tr style=\"text-align: right;\">\n",
              "      <th></th>\n",
              "      <th>id_usuario</th>\n",
              "      <th>0</th>\n",
              "    </tr>\n",
              "  </thead>\n",
              "  <tbody>\n",
              "    <tr>\n",
              "      <th>0</th>\n",
              "      <td>650</td>\n",
              "      <td>0</td>\n",
              "    </tr>\n",
              "    <tr>\n",
              "      <th>1</th>\n",
              "      <td>234</td>\n",
              "      <td>0</td>\n",
              "    </tr>\n",
              "    <tr>\n",
              "      <th>2</th>\n",
              "      <td>31</td>\n",
              "      <td>0</td>\n",
              "    </tr>\n",
              "    <tr>\n",
              "      <th>3</th>\n",
              "      <td>552</td>\n",
              "      <td>0</td>\n",
              "    </tr>\n",
              "    <tr>\n",
              "      <th>4</th>\n",
              "      <td>411</td>\n",
              "      <td>0</td>\n",
              "    </tr>\n",
              "    <tr>\n",
              "      <th>...</th>\n",
              "      <td>...</td>\n",
              "      <td>...</td>\n",
              "    </tr>\n",
              "    <tr>\n",
              "      <th>85</th>\n",
              "      <td>354</td>\n",
              "      <td>0</td>\n",
              "    </tr>\n",
              "    <tr>\n",
              "      <th>86</th>\n",
              "      <td>82</td>\n",
              "      <td>0</td>\n",
              "    </tr>\n",
              "    <tr>\n",
              "      <th>87</th>\n",
              "      <td>172</td>\n",
              "      <td>0</td>\n",
              "    </tr>\n",
              "    <tr>\n",
              "      <th>88</th>\n",
              "      <td>8</td>\n",
              "      <td>0</td>\n",
              "    </tr>\n",
              "    <tr>\n",
              "      <th>89</th>\n",
              "      <td>640</td>\n",
              "      <td>0</td>\n",
              "    </tr>\n",
              "  </tbody>\n",
              "</table>\n",
              "<p>90 rows × 2 columns</p>\n",
              "</div>"
            ],
            "text/plain": [
              "    id_usuario  0\n",
              "0          650  0\n",
              "1          234  0\n",
              "2           31  0\n",
              "3          552  0\n",
              "4          411  0\n",
              "..         ... ..\n",
              "85         354  0\n",
              "86          82  0\n",
              "87         172  0\n",
              "88           8  0\n",
              "89         640  0\n",
              "\n",
              "[90 rows x 2 columns]"
            ]
          },
          "metadata": {
            "tags": []
          },
          "execution_count": 10
        }
      ]
    }
  ]
}