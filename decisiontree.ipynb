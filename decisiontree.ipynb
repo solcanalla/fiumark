{
  "nbformat": 4,
  "nbformat_minor": 0,
  "metadata": {
    "colab": {
      "name": "decisiontree.ipynb",
      "provenance": [],
      "collapsed_sections": [
        "W8LPjgN_SfCB",
        "iq9mnZDySDMf",
        "FQp6Z0RRSN48",
        "sN9pYjk4SUKM",
        "iQnKI2SLSZnq"
      ],
      "include_colab_link": true
    },
    "kernelspec": {
      "name": "python3",
      "display_name": "Python 3"
    }
  },
  "cells": [
    {
      "cell_type": "markdown",
      "metadata": {
        "id": "view-in-github",
        "colab_type": "text"
      },
      "source": [
        "<a href=\"https://colab.research.google.com/github/solcanalla/fiumark/blob/main/decisiontree.ipynb\" target=\"_parent\"><img src=\"https://colab.research.google.com/assets/colab-badge.svg\" alt=\"Open In Colab\"/></a>"
      ]
    },
    {
      "cell_type": "markdown",
      "metadata": {
        "id": "vKkeFol27cdi"
      },
      "source": [
        "# Modelo: Decision Tree #\n",
        "\n"
      ]
    },
    {
      "cell_type": "markdown",
      "metadata": {
        "id": "W8LPjgN_SfCB"
      },
      "source": [
        "##Inicialización##"
      ]
    },
    {
      "cell_type": "code",
      "metadata": {
        "id": "_HvAwpba7VqH"
      },
      "source": [
        "import pandas as pd\n",
        "import numpy as np\n",
        "from matplotlib import pyplot as plt\n",
        "import seaborn as sns\n",
        "from sklearn import metrics\n",
        "from sklearn.tree import DecisionTreeClassifier\n"
      ],
      "execution_count": 14,
      "outputs": []
    },
    {
      "cell_type": "code",
      "metadata": {
        "colab": {
          "base_uri": "https://localhost:8080/"
        },
        "id": "98yZBetj9NAC",
        "outputId": "4225476d-e2a3-4b3a-9017-b702d4f815cb"
      },
      "source": [
        "!git clone https://github.com/solcanalla/fiumark.git\n",
        "%cd fiumark\n",
        "!git pull origin main\n",
        "import preprocessing as pp"
      ],
      "execution_count": 2,
      "outputs": [
        {
          "output_type": "stream",
          "text": [
            "fatal: destination path 'fiumark' already exists and is not an empty directory.\n",
            "/content/fiumark\n",
            "From https://github.com/solcanalla/fiumark\n",
            " * branch            main       -> FETCH_HEAD\n",
            "Already up to date.\n"
          ],
          "name": "stdout"
        }
      ]
    },
    {
      "cell_type": "code",
      "metadata": {
        "id": "uQCNJGBkbajK"
      },
      "source": [
        "pd.options.display.max_columns = None\n",
        "df = pp.get_dataset()"
      ],
      "execution_count": 3,
      "outputs": []
    },
    {
      "cell_type": "markdown",
      "metadata": {
        "id": "KQdm-kuxbL1b"
      },
      "source": [
        "##Modelo 1##"
      ]
    },
    {
      "cell_type": "markdown",
      "metadata": {
        "id": "iq9mnZDySDMf"
      },
      "source": [
        "###Pre procesamiento###"
      ]
    },
    {
      "cell_type": "code",
      "metadata": {
        "id": "MRKaMDdN7pd7"
      },
      "source": [
        "df = pp.get_dataset()\n",
        "df1 = pp.common_preprocessing(df)\n",
        "X_train1, X_test1, y_train1, y_test1 = pp.get_train_test_data(df1)"
      ],
      "execution_count": 4,
      "outputs": []
    },
    {
      "cell_type": "markdown",
      "metadata": {
        "id": "FQp6Z0RRSN48"
      },
      "source": [
        "###Entrenamiento###"
      ]
    },
    {
      "cell_type": "code",
      "metadata": {
        "id": "cCSYQHxwRWK6"
      },
      "source": [
        "from sklearn.model_selection import GridSearchCV\n",
        "\n",
        "params = {\n",
        "    'max_depth': np.arange(2, 20),\n",
        "    'criterion': [\"gini\", \"entropy\"]\n",
        "}\n",
        "\n",
        "clf = DecisionTreeClassifier(random_state=42)\n",
        "\n",
        "gscv1 = GridSearchCV(\n",
        "    clf, params, scoring='roc_auc', n_jobs=-1, cv=5, return_train_score=True\n",
        ").fit(X_train1, y_train1)"
      ],
      "execution_count": 5,
      "outputs": []
    },
    {
      "cell_type": "code",
      "metadata": {
        "colab": {
          "base_uri": "https://localhost:8080/"
        },
        "id": "j3nV4gOBUcNQ",
        "outputId": "75a9e24f-7b3a-43ae-80b0-7a40bc9bbe4e"
      },
      "source": [
        "print(f\"Best score: {gscv1.best_score_}\")\n",
        "print(f\"Best params {gscv1.best_params_}\")"
      ],
      "execution_count": 6,
      "outputs": [
        {
          "output_type": "stream",
          "text": [
            "Best score: 0.8311719893653663\n",
            "Best params {'criterion': 'gini', 'max_depth': 3}\n"
          ],
          "name": "stdout"
        }
      ]
    },
    {
      "cell_type": "markdown",
      "metadata": {
        "id": "lXJUD8vKbpCu"
      },
      "source": [
        "##Modelo 2##"
      ]
    },
    {
      "cell_type": "markdown",
      "metadata": {
        "id": "29n6DcPDb5YJ"
      },
      "source": [
        "###Pre procesamiento###"
      ]
    },
    {
      "cell_type": "code",
      "metadata": {
        "id": "81HrjsmHbyHM"
      },
      "source": [
        "df = pp.get_dataset()\n",
        "df2 = pp.min_features_preprocessing(df)\n",
        "X_train2, X_test2, y_train2, y_test2 = pp.get_train_test_data(df2)"
      ],
      "execution_count": 7,
      "outputs": []
    },
    {
      "cell_type": "markdown",
      "metadata": {
        "id": "_ihpOUlDbyRw"
      },
      "source": [
        "###Entrenamiento###"
      ]
    },
    {
      "cell_type": "code",
      "metadata": {
        "id": "qQFhDXs2cGj2"
      },
      "source": [
        "from sklearn.model_selection import GridSearchCV\n",
        "\n",
        "params = {\n",
        "    'max_depth': np.arange(2, 20),\n",
        "    'criterion': [\"gini\", \"entropy\"]\n",
        "}\n",
        "\n",
        "clf = DecisionTreeClassifier(random_state=42)\n",
        "\n",
        "gscv2 = GridSearchCV(\n",
        "    clf, params, scoring='roc_auc', n_jobs=-1, cv=5, return_train_score=True\n",
        ").fit(X_train2, y_train2)"
      ],
      "execution_count": 8,
      "outputs": []
    },
    {
      "cell_type": "code",
      "metadata": {
        "colab": {
          "base_uri": "https://localhost:8080/"
        },
        "id": "azMg8fumbyRw",
        "outputId": "7c21a47e-89a8-40d3-f3c3-d12c17b047b8"
      },
      "source": [
        "print(f\"Best score: {gscv2.best_score_}\")\n",
        "print(f\"Best params {gscv2.best_params_}\")"
      ],
      "execution_count": 9,
      "outputs": [
        {
          "output_type": "stream",
          "text": [
            "Best score: 0.8299484750387498\n",
            "Best params {'criterion': 'entropy', 'max_depth': 3}\n"
          ],
          "name": "stdout"
        }
      ]
    },
    {
      "cell_type": "markdown",
      "metadata": {
        "id": "sN9pYjk4SUKM"
      },
      "source": [
        "##Evaluación del modelo##"
      ]
    },
    {
      "cell_type": "code",
      "metadata": {
        "id": "sBwk5IG_SyxY"
      },
      "source": [
        "df = pp.get_dataset()\n",
        "y_pred = gscv1.predict(X_test1)"
      ],
      "execution_count": 10,
      "outputs": []
    },
    {
      "cell_type": "markdown",
      "metadata": {
        "id": "tUisZmNUS69S"
      },
      "source": [
        "###Precisión recall y F1-score##"
      ]
    },
    {
      "cell_type": "code",
      "metadata": {
        "colab": {
          "base_uri": "https://localhost:8080/"
        },
        "id": "1Ay7vkPqI7ii",
        "outputId": "8d2994ce-ee33-4081-8097-8ebea95f14d6"
      },
      "source": [
        "from sklearn.metrics import classification_report\n",
        "print(classification_report(y_test1, y_pred))"
      ],
      "execution_count": 11,
      "outputs": [
        {
          "output_type": "stream",
          "text": [
            "              precision    recall  f1-score   support\n",
            "\n",
            "           0       0.83      0.77      0.80        95\n",
            "           1       0.70      0.77      0.73        66\n",
            "\n",
            "    accuracy                           0.77       161\n",
            "   macro avg       0.76      0.77      0.77       161\n",
            "weighted avg       0.78      0.77      0.77       161\n",
            "\n"
          ],
          "name": "stdout"
        }
      ]
    },
    {
      "cell_type": "markdown",
      "metadata": {
        "id": "bX2ckk-vTB7u"
      },
      "source": [
        "###Accuracy###"
      ]
    },
    {
      "cell_type": "code",
      "metadata": {
        "colab": {
          "base_uri": "https://localhost:8080/"
        },
        "id": "87EsUVufScEq",
        "outputId": "49a49bea-565e-44a8-b50a-0eb62c39f8c0"
      },
      "source": [
        "from sklearn.metrics import accuracy_score\n",
        "accuracy = accuracy_score(y_test1, y_pred)\n",
        "accuracy"
      ],
      "execution_count": 12,
      "outputs": [
        {
          "output_type": "execute_result",
          "data": {
            "text/plain": [
              "0.7701863354037267"
            ]
          },
          "metadata": {
            "tags": []
          },
          "execution_count": 12
        }
      ]
    },
    {
      "cell_type": "markdown",
      "metadata": {
        "id": "W0SAT2RSTYH3"
      },
      "source": [
        "###Auc-Roc###"
      ]
    },
    {
      "cell_type": "code",
      "metadata": {
        "colab": {
          "base_uri": "https://localhost:8080/"
        },
        "id": "ec8nPUDhTarD",
        "outputId": "07fa3b13-0e5c-4039-d8e4-3ed284706b0e"
      },
      "source": [
        "from sklearn.metrics import roc_auc_score\n",
        "auc_roc = roc_auc_score(y_test1, y_pred)\n",
        "auc_roc"
      ],
      "execution_count": 13,
      "outputs": [
        {
          "output_type": "execute_result",
          "data": {
            "text/plain": [
              "0.7705741626794258"
            ]
          },
          "metadata": {
            "tags": []
          },
          "execution_count": 13
        }
      ]
    },
    {
      "cell_type": "code",
      "metadata": {
        "colab": {
          "base_uri": "https://localhost:8080/",
          "height": 279
        },
        "id": "1cCHJdlyoU3m",
        "outputId": "f30ca506-c752-42df-e0be-f11d01de64a9"
      },
      "source": [
        "from sklearn.metrics import plot_roc_curve\n",
        "plot_roc_curve(gscv1.best_estimator_, X_test1, y_test1)  \n",
        "plt.show()"
      ],
      "execution_count": 18,
      "outputs": [
        {
          "output_type": "display_data",
          "data": {
            "image/png": "[encoded data removed]",
            "text/plain": [
              "<Figure size 432x288 with 1 Axes>"
            ]
          },
          "metadata": {
            "tags": [],
            "needs_background": "light"
          }
        }
      ]
    },
    {
      "cell_type": "markdown",
      "metadata": {
        "id": "u1qZzRFujilw"
      },
      "source": [
        "###Matriz de confusión###"
      ]
    },
    {
      "cell_type": "code",
      "metadata": {
        "colab": {
          "base_uri": "https://localhost:8080/",
          "height": 404
        },
        "id": "cQWXAiWUjmXU",
        "outputId": "600c5452-b0c8-4d8c-e141-33a4224d4c6f"
      },
      "source": [
        "from sklearn.metrics import confusion_matrix\n",
        "\n",
        "def plot_confusion_matrix(y_true, y_pred):\n",
        "    names = sorted(set(y_true))\n",
        "    cm = confusion_matrix(y_true, y_pred, names)\n",
        "    df_cm = pd.DataFrame(cm, names, names)\n",
        "\n",
        "    plt.figure(dpi=100)\n",
        "    plt.title(\"Matriz de confusion\")\n",
        "    sns.heatmap(df_cm, annot=True, annot_kws={\"size\": 16}, fmt='g', square=True)\n",
        "    plt.ylabel(\"True label\")\n",
        "    plt.xlabel(\"Predicted label\")\n",
        "    plt.show()\n",
        "\n",
        "\n",
        "plot_confusion_matrix(y_test1, y_pred)"
      ],
      "execution_count": 19,
      "outputs": [
        {
          "output_type": "display_data",
          "data": {
            "image/png": "[encoded data removed]",
            "text/plain": [
              "<Figure size 600x400 with 2 Axes>"
            ]
          },
          "metadata": {
            "tags": [],
            "needs_background": "light"
          }
        }
      ]
    },
    {
      "cell_type": "markdown",
      "metadata": {
        "id": "iQnKI2SLSZnq"
      },
      "source": [
        "##Predicción##"
      ]
    },
    {
      "cell_type": "code",
      "metadata": {
        "colab": {
          "base_uri": "https://localhost:8080/",
          "height": 419
        },
        "id": "mLhyPYaiJ8MR",
        "outputId": "c7bf56b9-ec4e-4288-be24-b83499f0f554"
      },
      "source": [
        "X_holdout = pd.read_csv('https://drive.google.com/uc?export=download&id=1I980-_K9iOucJO26SG5_M8RELOQ5VB6A')\n",
        "X_holdout = pp.common_preprocessing(X_holdout)\n",
        "df2 = pd.DataFrame(gscv1.predict(X_holdout),columns=['volveria'])\n",
        "df3 = pd.concat([X_holdout.id_usuario,df2],axis=1)\n",
        "df3.to_csv('decisiontree.csv')\n",
        "df3"
      ],
      "execution_count": 20,
      "outputs": [
        {
          "output_type": "execute_result",
          "data": {
            "text/html": [
              "<div>\n",
              "<style scoped>\n",
              "    .dataframe tbody tr th:only-of-type {\n",
              "        vertical-align: middle;\n",
              "    }\n",
              "\n",
              "    .dataframe tbody tr th {\n",
              "        vertical-align: top;\n",
              "    }\n",
              "\n",
              "    .dataframe thead th {\n",
              "        text-align: right;\n",
              "    }\n",
              "</style>\n",
              "<table border=\"1\" class=\"dataframe\">\n",
              "  <thead>\n",
              "    <tr style=\"text-align: right;\">\n",
              "      <th></th>\n",
              "      <th>id_usuario</th>\n",
              "      <th>volveria</th>\n",
              "    </tr>\n",
              "  </thead>\n",
              "  <tbody>\n",
              "    <tr>\n",
              "      <th>0</th>\n",
              "      <td>650</td>\n",
              "      <td>1</td>\n",
              "    </tr>\n",
              "    <tr>\n",
              "      <th>1</th>\n",
              "      <td>234</td>\n",
              "      <td>0</td>\n",
              "    </tr>\n",
              "    <tr>\n",
              "      <th>2</th>\n",
              "      <td>31</td>\n",
              "      <td>1</td>\n",
              "    </tr>\n",
              "    <tr>\n",
              "      <th>3</th>\n",
              "      <td>552</td>\n",
              "      <td>1</td>\n",
              "    </tr>\n",
              "    <tr>\n",
              "      <th>4</th>\n",
              "      <td>411</td>\n",
              "      <td>0</td>\n",
              "    </tr>\n",
              "    <tr>\n",
              "      <th>...</th>\n",
              "      <td>...</td>\n",
              "      <td>...</td>\n",
              "    </tr>\n",
              "    <tr>\n",
              "      <th>85</th>\n",
              "      <td>354</td>\n",
              "      <td>1</td>\n",
              "    </tr>\n",
              "    <tr>\n",
              "      <th>86</th>\n",
              "      <td>82</td>\n",
              "      <td>0</td>\n",
              "    </tr>\n",
              "    <tr>\n",
              "      <th>87</th>\n",
              "      <td>172</td>\n",
              "      <td>1</td>\n",
              "    </tr>\n",
              "    <tr>\n",
              "      <th>88</th>\n",
              "      <td>8</td>\n",
              "      <td>1</td>\n",
              "    </tr>\n",
              "    <tr>\n",
              "      <th>89</th>\n",
              "      <td>640</td>\n",
              "      <td>1</td>\n",
              "    </tr>\n",
              "  </tbody>\n",
              "</table>\n",
              "<p>90 rows × 2 columns</p>\n",
              "</div>"
            ],
            "text/plain": [
              "    id_usuario  volveria\n",
              "0          650         1\n",
              "1          234         0\n",
              "2           31         1\n",
              "3          552         1\n",
              "4          411         0\n",
              "..         ...       ...\n",
              "85         354         1\n",
              "86          82         0\n",
              "87         172         1\n",
              "88           8         1\n",
              "89         640         1\n",
              "\n",
              "[90 rows x 2 columns]"
            ]
          },
          "metadata": {
            "tags": []
          },
          "execution_count": 20
        }
      ]
    }
  ]
}