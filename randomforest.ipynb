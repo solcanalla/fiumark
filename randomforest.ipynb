{
  "nbformat": 4,
  "nbformat_minor": 0,
  "metadata": {
    "colab": {
      "name": "randomforest.ipynb",
      "provenance": [],
      "collapsed_sections": [],
      "include_colab_link": true
    },
    "kernelspec": {
      "name": "python3",
      "display_name": "Python 3"
    }
  },
  "cells": [
    {
      "cell_type": "markdown",
      "metadata": {
        "id": "view-in-github",
        "colab_type": "text"
      },
      "source": [
        "<a href=\"https://colab.research.google.com/github/solcanalla/fiumark/blob/main/randomforest.ipynb\" target=\"_parent\"><img src=\"https://colab.research.google.com/assets/colab-badge.svg\" alt=\"Open In Colab\"/></a>"
      ]
    },
    {
      "cell_type": "markdown",
      "metadata": {
        "id": "drALPgUlWdOZ"
      },
      "source": [
        "#Modelo: Random Forest#"
      ]
    },
    {
      "cell_type": "markdown",
      "metadata": {
        "id": "gYdAgMTbfAad"
      },
      "source": [
        "Ensamble de tipo bagging."
      ]
    },
    {
      "cell_type": "markdown",
      "metadata": {
        "id": "fH44iPORWgNa"
      },
      "source": [
        "##Inicialización##"
      ]
    },
    {
      "cell_type": "code",
      "metadata": {
        "id": "8ItYv-1BaD4L"
      },
      "source": [
        "import pandas as pd\n",
        "import numpy as np\n",
        "from matplotlib import pyplot as plt\n",
        "import matplotlib.patches as mpatches\n",
        "import matplotlib\n",
        "import seaborn as sns\n",
        "from sklearn import metrics\n",
        "from sklearn.ensemble import RandomForestClassifier"
      ],
      "execution_count": 1,
      "outputs": []
    },
    {
      "cell_type": "code",
      "metadata": {
        "colab": {
          "base_uri": "https://localhost:8080/"
        },
        "id": "bbu4f1cZa8-F",
        "outputId": "d6c27529-3587-4876-dbd2-ead347923ba1"
      },
      "source": [
        "!git clone https://github.com/solcanalla/fiumark.git\n",
        "%cd fiumark\n",
        "!git pull origin main\n",
        "import preprocessing as pp"
      ],
      "execution_count": 2,
      "outputs": [
        {
          "output_type": "stream",
          "text": [
            "fatal: destination path 'fiumark' already exists and is not an empty directory.\n",
            "/content/fiumark\n",
            "remote: Enumerating objects: 6, done.\u001b[K\n",
            "remote: Counting objects: 100% (6/6), done.\u001b[K\n",
            "remote: Compressing objects: 100% (6/6), done.\u001b[K\n",
            "remote: Total 35 (delta 1), reused 0 (delta 0), pack-reused 29\u001b[K\n",
            "Unpacking objects: 100% (35/35), done.\n",
            "From https://github.com/solcanalla/fiumark\n",
            " * branch            main       -> FETCH_HEAD\n",
            "   eed0d4d..82094dc  main       -> origin/main\n",
            "Updating eed0d4d..82094dc\n",
            "Fast-forward\n",
            " README.md          |   4 \u001b[32m+\u001b[m\u001b[31m-\u001b[m\n",
            " decisiontree.ipynb | 265 \u001b[32m+++++++++++++++++++++++++++++++++\u001b[m\u001b[31m--------------------\u001b[m\n",
            " knn.ipynb          | 228 \u001b[32m++++++++++++++++++++++++++++++\u001b[m\u001b[31m---------------\u001b[m\n",
            " naive_bayes.ipynb  | 204 \u001b[32m+++++++++++++++++++++++++++++\u001b[m\u001b[31m------------\u001b[m\n",
            " preprocessing.py   |  79 \u001b[32m+++++++++++++++\u001b[m\u001b[31m-\u001b[m\n",
            " preprocessing2.py  |  68 \u001b[31m--------------\u001b[m\n",
            " svm.ipynb          | 245 \u001b[32m+++++++++++++++++++++++++++++++\u001b[m\u001b[31m------------------\u001b[m\n",
            " 7 files changed, 704 insertions(+), 389 deletions(-)\n",
            " delete mode 100644 preprocessing2.py\n"
          ],
          "name": "stdout"
        }
      ]
    },
    {
      "cell_type": "markdown",
      "metadata": {
        "id": "Ws72EH3ro14a"
      },
      "source": [
        "##Modelo 1##"
      ]
    },
    {
      "cell_type": "markdown",
      "metadata": {
        "id": "DVkV774EWiL9"
      },
      "source": [
        "###Pre procesamiento###"
      ]
    },
    {
      "cell_type": "code",
      "metadata": {
        "id": "KY6szt8ibDQZ"
      },
      "source": [
        "pd.options.display.max_columns = None\n",
        "\n",
        "df = pp.get_dataset()\n",
        "df1 = pp.common_preprocessing(df)\n",
        "X_train1, X_test1, y_train1, y_test1 = pp.get_train_test_data(df1)"
      ],
      "execution_count": 3,
      "outputs": []
    },
    {
      "cell_type": "markdown",
      "metadata": {
        "id": "eqsIpgHJWoOY"
      },
      "source": [
        "###Entrenamiento###"
      ]
    },
    {
      "cell_type": "code",
      "metadata": {
        "id": "ZhVMtaPSbHCE"
      },
      "source": [
        "from sklearn.model_selection import GridSearchCV\n",
        "\n",
        "params = {\n",
        "    'n_estimators': np.arange(40,100,10),\n",
        "    'max_depth': np.arange(2, 20),\n",
        "    'max_features': np.arange(2,13)\n",
        "}\n",
        "\n",
        "clf = RandomForestClassifier(random_state=42)\n",
        "\n",
        "gscv1 = GridSearchCV(\n",
        "    clf, params, scoring='roc_auc', n_jobs=-1, cv=5, return_train_score=True\n",
        ").fit(X_train1, y_train1)"
      ],
      "execution_count": 4,
      "outputs": []
    },
    {
      "cell_type": "code",
      "metadata": {
        "colab": {
          "base_uri": "https://localhost:8080/"
        },
        "id": "RPRO_H8ccNgW",
        "outputId": "c106093f-c19f-4ffc-fd66-68a110975846"
      },
      "source": [
        "print(f\"Best score: {gscv1.best_score_}\")\n",
        "print(f\"Best params {gscv1.best_params_}\")"
      ],
      "execution_count": 5,
      "outputs": [
        {
          "output_type": "stream",
          "text": [
            "Best score: 0.8656283973241194\n",
            "Best params {'max_depth': 3, 'max_features': 7, 'n_estimators': 50}\n"
          ],
          "name": "stdout"
        }
      ]
    },
    {
      "cell_type": "markdown",
      "metadata": {
        "id": "WtTA89qIo7vt"
      },
      "source": [
        "##Modelo 2##"
      ]
    },
    {
      "cell_type": "markdown",
      "metadata": {
        "id": "FIplPzaGo7v1"
      },
      "source": [
        "###Pre procesamiento###"
      ]
    },
    {
      "cell_type": "code",
      "metadata": {
        "id": "rIHm8-UWo7v1"
      },
      "source": [
        "pd.options.display.max_columns = None\n",
        "\n",
        "df = pp.get_dataset()\n",
        "df2 = pp.min_features_preprocessing(df)\n",
        "X_train2, X_test2, y_train2, y_test2 = pp.get_train_test_data(df2)"
      ],
      "execution_count": 6,
      "outputs": []
    },
    {
      "cell_type": "markdown",
      "metadata": {
        "id": "STSfWk_fo7v2"
      },
      "source": [
        "###Entrenamiento###"
      ]
    },
    {
      "cell_type": "code",
      "metadata": {
        "id": "ikjDleexo7v2"
      },
      "source": [
        "from sklearn.model_selection import GridSearchCV\n",
        "\n",
        "params = {\n",
        "    'n_estimators': np.arange(40,100,10),\n",
        "    'max_depth': np.arange(2, 20),\n",
        "    'max_features': np.arange(2,13)\n",
        "}\n",
        "\n",
        "clf = RandomForestClassifier(random_state=42)\n",
        "\n",
        "gscv2 = GridSearchCV(\n",
        "    clf, params, scoring='roc_auc', n_jobs=-1, cv=5, return_train_score=True\n",
        ").fit(X_train2, y_train2)"
      ],
      "execution_count": 7,
      "outputs": []
    },
    {
      "cell_type": "code",
      "metadata": {
        "colab": {
          "base_uri": "https://localhost:8080/"
        },
        "id": "jYxEHGWYo7v2",
        "outputId": "12def3cc-0003-4ddf-f780-5102891f761b"
      },
      "source": [
        "print(f\"Best score: {gscv2.best_score_}\")\n",
        "print(f\"Best params {gscv2.best_params_}\")"
      ],
      "execution_count": 8,
      "outputs": [
        {
          "output_type": "stream",
          "text": [
            "Best score: 0.8514496617476105\n",
            "Best params {'max_depth': 5, 'max_features': 2, 'n_estimators': 90}\n"
          ],
          "name": "stdout"
        }
      ]
    },
    {
      "cell_type": "markdown",
      "metadata": {
        "id": "tl4RS277WrXM"
      },
      "source": [
        "##Evaluación del modelo##"
      ]
    },
    {
      "cell_type": "code",
      "metadata": {
        "id": "TEObVVRGW1sb"
      },
      "source": [
        "y_pred = gscv1.predict(X_test1)"
      ],
      "execution_count": 9,
      "outputs": []
    },
    {
      "cell_type": "markdown",
      "metadata": {
        "id": "C6l7uc-bW8kr"
      },
      "source": [
        "###Precision recall y F1-score###"
      ]
    },
    {
      "cell_type": "code",
      "metadata": {
        "colab": {
          "base_uri": "https://localhost:8080/"
        },
        "id": "ppthDvhagGUu",
        "outputId": "19e7fa92-46d1-4406-a516-c2cfefbabe8d"
      },
      "source": [
        "from sklearn.metrics import classification_report\n",
        "\n",
        "print(classification_report(y_test1, y_pred))"
      ],
      "execution_count": 10,
      "outputs": [
        {
          "output_type": "stream",
          "text": [
            "              precision    recall  f1-score   support\n",
            "\n",
            "           0       0.78      0.96      0.86        95\n",
            "           1       0.91      0.61      0.73        66\n",
            "\n",
            "    accuracy                           0.81       161\n",
            "   macro avg       0.84      0.78      0.79       161\n",
            "weighted avg       0.83      0.81      0.80       161\n",
            "\n"
          ],
          "name": "stdout"
        }
      ]
    },
    {
      "cell_type": "markdown",
      "metadata": {
        "id": "TXo4N6oFXG-l"
      },
      "source": [
        "###Accuracy###"
      ]
    },
    {
      "cell_type": "code",
      "metadata": {
        "colab": {
          "base_uri": "https://localhost:8080/"
        },
        "id": "ItcjYE-nXLBE",
        "outputId": "4f4ead42-a6d2-49ca-809a-ed2e7e57069c"
      },
      "source": [
        "from sklearn.metrics import accuracy_score\n",
        "accuracy = accuracy_score(y_test1, y_pred)\n",
        "accuracy"
      ],
      "execution_count": 11,
      "outputs": [
        {
          "output_type": "execute_result",
          "data": {
            "text/plain": [
              "0.8136645962732919"
            ]
          },
          "metadata": {
            "tags": []
          },
          "execution_count": 11
        }
      ]
    },
    {
      "cell_type": "markdown",
      "metadata": {
        "id": "H5iWL6yPXIxr"
      },
      "source": [
        "###Auc-Roc###"
      ]
    },
    {
      "cell_type": "code",
      "metadata": {
        "colab": {
          "base_uri": "https://localhost:8080/"
        },
        "id": "9EDnziD1XXD_",
        "outputId": "cb11e9e0-2666-447e-b584-3ac5ba3107b1"
      },
      "source": [
        "from sklearn.metrics import roc_auc_score\n",
        "auc_roc = roc_auc_score(y_test1, y_pred)\n",
        "auc_roc"
      ],
      "execution_count": 12,
      "outputs": [
        {
          "output_type": "execute_result",
          "data": {
            "text/plain": [
              "0.7819776714513557"
            ]
          },
          "metadata": {
            "tags": []
          },
          "execution_count": 12
        }
      ]
    },
    {
      "cell_type": "code",
      "metadata": {
        "colab": {
          "base_uri": "https://localhost:8080/",
          "height": 279
        },
        "id": "XGWRCTxEl8Y4",
        "outputId": "eabfad7e-40d7-4812-a058-e5638320a520"
      },
      "source": [
        "from sklearn.metrics import plot_roc_curve\n",
        "plot_roc_curve(gscv1.best_estimator_, X_test1, y_test1)  \n",
        "plt.show() "
      ],
      "execution_count": 14,
      "outputs": [
        {
          "output_type": "display_data",
          "data": {
            "image/png": "[encoded data removed]",
            "text/plain": [
              "<Figure size 432x288 with 1 Axes>"
            ]
          },
          "metadata": {
            "tags": [],
            "needs_background": "light"
          }
        }
      ]
    },
    {
      "cell_type": "markdown",
      "metadata": {
        "id": "WIqE4qOfgJ3C"
      },
      "source": [
        "###Matriz de confusión###"
      ]
    },
    {
      "cell_type": "code",
      "metadata": {
        "colab": {
          "base_uri": "https://localhost:8080/",
          "height": 404
        },
        "id": "FopKUlQkgM0v",
        "outputId": "b5fc5fcb-8544-4143-cd23-02b915711289"
      },
      "source": [
        "from sklearn.metrics import confusion_matrix\n",
        "\n",
        "def plot_confusion_matrix(y_true, y_pred):\n",
        "    names = sorted(set(y_true))\n",
        "    cm = confusion_matrix(y_true, y_pred, names)\n",
        "    df_cm = pd.DataFrame(cm, names, names)\n",
        "\n",
        "    plt.figure(dpi=100)\n",
        "    plt.title(\"Matriz de confusion\")\n",
        "    sns.heatmap(df_cm, annot=True, annot_kws={\"size\": 16}, fmt='g', square=True)\n",
        "    plt.ylabel(\"True label\")\n",
        "    plt.xlabel(\"Predicted label\")\n",
        "    plt.show()\n",
        "\n",
        "\n",
        "plot_confusion_matrix(y_test1, y_pred)"
      ],
      "execution_count": 15,
      "outputs": [
        {
          "output_type": "display_data",
          "data": {
            "image/png": "[encoded data removed]",
            "text/plain": [
              "<Figure size 600x400 with 2 Axes>"
            ]
          },
          "metadata": {
            "tags": [],
            "needs_background": "light"
          }
        }
      ]
    },
    {
      "cell_type": "markdown",
      "metadata": {
        "id": "6lsHmwyFWl2e"
      },
      "source": [
        "##Predicción##"
      ]
    },
    {
      "cell_type": "code",
      "metadata": {
        "colab": {
          "base_uri": "https://localhost:8080/",
          "height": 419
        },
        "id": "2xCc_w7ZWcOR",
        "outputId": "968c71b1-f47b-4161-aa53-00292b19ed04"
      },
      "source": [
        "X_holdout = pd.read_csv('https://drive.google.com/uc?export=download&id=1I980-_K9iOucJO26SG5_M8RELOQ5VB6A')\n",
        "X = pp.common_preprocessing(X_holdout)\n",
        "prediction = pd.DataFrame(gscv1.predict(X),columns=['volveria'],dtype=int)\n",
        "pred_formatted = pd.concat([X_holdout.id_usuario,prediction],axis=1)\n",
        "pred_formatted.to_csv('randomforest.csv')\n",
        "pred_formatted"
      ],
      "execution_count": 16,
      "outputs": [
        {
          "output_type": "execute_result",
          "data": {
            "text/html": [
              "<div>\n",
              "<style scoped>\n",
              "    .dataframe tbody tr th:only-of-type {\n",
              "        vertical-align: middle;\n",
              "    }\n",
              "\n",
              "    .dataframe tbody tr th {\n",
              "        vertical-align: top;\n",
              "    }\n",
              "\n",
              "    .dataframe thead th {\n",
              "        text-align: right;\n",
              "    }\n",
              "</style>\n",
              "<table border=\"1\" class=\"dataframe\">\n",
              "  <thead>\n",
              "    <tr style=\"text-align: right;\">\n",
              "      <th></th>\n",
              "      <th>id_usuario</th>\n",
              "      <th>volveria</th>\n",
              "    </tr>\n",
              "  </thead>\n",
              "  <tbody>\n",
              "    <tr>\n",
              "      <th>0</th>\n",
              "      <td>650</td>\n",
              "      <td>1</td>\n",
              "    </tr>\n",
              "    <tr>\n",
              "      <th>1</th>\n",
              "      <td>234</td>\n",
              "      <td>0</td>\n",
              "    </tr>\n",
              "    <tr>\n",
              "      <th>2</th>\n",
              "      <td>31</td>\n",
              "      <td>0</td>\n",
              "    </tr>\n",
              "    <tr>\n",
              "      <th>3</th>\n",
              "      <td>552</td>\n",
              "      <td>0</td>\n",
              "    </tr>\n",
              "    <tr>\n",
              "      <th>4</th>\n",
              "      <td>411</td>\n",
              "      <td>0</td>\n",
              "    </tr>\n",
              "    <tr>\n",
              "      <th>...</th>\n",
              "      <td>...</td>\n",
              "      <td>...</td>\n",
              "    </tr>\n",
              "    <tr>\n",
              "      <th>85</th>\n",
              "      <td>354</td>\n",
              "      <td>0</td>\n",
              "    </tr>\n",
              "    <tr>\n",
              "      <th>86</th>\n",
              "      <td>82</td>\n",
              "      <td>0</td>\n",
              "    </tr>\n",
              "    <tr>\n",
              "      <th>87</th>\n",
              "      <td>172</td>\n",
              "      <td>0</td>\n",
              "    </tr>\n",
              "    <tr>\n",
              "      <th>88</th>\n",
              "      <td>8</td>\n",
              "      <td>0</td>\n",
              "    </tr>\n",
              "    <tr>\n",
              "      <th>89</th>\n",
              "      <td>640</td>\n",
              "      <td>0</td>\n",
              "    </tr>\n",
              "  </tbody>\n",
              "</table>\n",
              "<p>90 rows × 2 columns</p>\n",
              "</div>"
            ],
            "text/plain": [
              "    id_usuario  volveria\n",
              "0          650         1\n",
              "1          234         0\n",
              "2           31         0\n",
              "3          552         0\n",
              "4          411         0\n",
              "..         ...       ...\n",
              "85         354         0\n",
              "86          82         0\n",
              "87         172         0\n",
              "88           8         0\n",
              "89         640         0\n",
              "\n",
              "[90 rows x 2 columns]"
            ]
          },
          "metadata": {
            "tags": []
          },
          "execution_count": 16
        }
      ]
    }
  ]
}