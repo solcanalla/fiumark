{
  "nbformat": 4,
  "nbformat_minor": 0,
  "metadata": {
    "colab": {
      "name": "decistiontree.ipynb",
      "provenance": [],
      "include_colab_link": true
    },
    "kernelspec": {
      "name": "python3",
      "display_name": "Python 3"
    }
  },
  "cells": [
    {
      "cell_type": "markdown",
      "metadata": {
        "id": "view-in-github",
        "colab_type": "text"
      },
      "source": [
        "<a href=\"https://colab.research.google.com/github/solcanalla/fiumark/blob/main/decistiontree.ipynb\" target=\"_parent\"><img src=\"https://colab.research.google.com/assets/colab-badge.svg\" alt=\"Open In Colab\"/></a>"
      ]
    },
    {
      "cell_type": "markdown",
      "metadata": {
        "id": "vKkeFol27cdi"
      },
      "source": [
        "# Modelo: Random Forest #\n",
        "\n"
      ]
    },
    {
      "cell_type": "markdown",
      "metadata": {
        "id": "W8LPjgN_SfCB"
      },
      "source": [
        "##Inicialización##"
      ]
    },
    {
      "cell_type": "code",
      "metadata": {
        "id": "_HvAwpba7VqH"
      },
      "source": [
        "import pandas as pd\n",
        "import numpy as np\n",
        "from matplotlib import pyplot as plt\n",
        "import matplotlib.patches as mpatches\n",
        "import matplotlib\n",
        "import seaborn as sns\n",
        "from sklearn.metrics import accuracy_score\n",
        "from sklearn.tree import DecisionTreeClassifier\n",
        "from sklearn.preprocessing import (\n",
        "    LabelEncoder,\n",
        "    OneHotEncoder,\n",
        ")"
      ],
      "execution_count": null,
      "outputs": []
    },
    {
      "cell_type": "code",
      "metadata": {
        "colab": {
          "base_uri": "https://localhost:8080/"
        },
        "id": "98yZBetj9NAC",
        "outputId": "5f4be975-637d-42ec-ed8a-2bf29274d5fa"
      },
      "source": [
        "%cd fiumark\n",
        "!git pull origin main\n",
        "import preprocessing as pp"
      ],
      "execution_count": null,
      "outputs": [
        {
          "output_type": "stream",
          "text": [
            "/content/fiumark\n",
            "remote: Enumerating objects: 5, done.\u001b[K\n",
            "remote: Counting objects: 100% (5/5), done.\u001b[K\n",
            "remote: Compressing objects: 100% (1/1), done.\u001b[K\n",
            "remote: Total 3 (delta 2), reused 3 (delta 2), pack-reused 0\u001b[K\n",
            "Unpacking objects: 100% (3/3), done.\n",
            "From https://github.com/solcanalla/fiumark\n",
            " * branch            main       -> FETCH_HEAD\n",
            "   2ac4bc5..05ac824  main       -> origin/main\n",
            "Updating 2ac4bc5..05ac824\n",
            "Fast-forward\n",
            " preprocessing.py | 17 \u001b[32m++++\u001b[m\u001b[31m-------------\u001b[m\n",
            " 1 file changed, 4 insertions(+), 13 deletions(-)\n"
          ],
          "name": "stdout"
        }
      ]
    },
    {
      "cell_type": "markdown",
      "metadata": {
        "id": "iq9mnZDySDMf"
      },
      "source": [
        "##Pre procesamiento##"
      ]
    },
    {
      "cell_type": "code",
      "metadata": {
        "id": "MRKaMDdN7pd7"
      },
      "source": [
        "pd.options.display.max_columns = None\n",
        "df = pp.get_dataset()\n",
        "df = pp.decisiontree_preprocessing(df)\n",
        "X, y = pp.get_train(df)"
      ],
      "execution_count": null,
      "outputs": []
    },
    {
      "cell_type": "markdown",
      "metadata": {
        "id": "FQp6Z0RRSN48"
      },
      "source": [
        "##Entrenamiento##"
      ]
    },
    {
      "cell_type": "code",
      "metadata": {
        "id": "cCSYQHxwRWK6"
      },
      "source": [
        "from sklearn.model_selection import RandomizedSearchCV\n",
        "\n",
        "params = {\n",
        "    'max_depth': np.arange(1, 32),\n",
        "    'min_samples_leaf': np.arange(1, 32),\n",
        "    \"criterion\": [\"gini\", \"entropy\"],\n",
        "}\n",
        "\n",
        "clf = DecisionTreeClassifier(random_state=42)\n",
        "\n",
        "rgscv = RandomizedSearchCV(\n",
        "    clf, params, n_iter=60, scoring='accuracy', n_jobs=-1, cv=5, return_train_score=True\n",
        ").fit(X, y)"
      ],
      "execution_count": null,
      "outputs": []
    },
    {
      "cell_type": "code",
      "metadata": {
        "colab": {
          "base_uri": "https://localhost:8080/"
        },
        "id": "j3nV4gOBUcNQ",
        "outputId": "33493ac1-fc86-4c95-be56-1975560bf5e2"
      },
      "source": [
        "print(f\"Best score: {rgscv.best_score_}\")\n",
        "print(f\"Best params {rgscv.best_params_}\")"
      ],
      "execution_count": null,
      "outputs": [
        {
          "output_type": "stream",
          "text": [
            "Best score: 0.8127795031055902\n",
            "Best params {'min_samples_leaf': 7, 'max_depth': 11, 'criterion': 'gini'}\n"
          ],
          "name": "stdout"
        }
      ]
    },
    {
      "cell_type": "markdown",
      "metadata": {
        "id": "sN9pYjk4SUKM"
      },
      "source": [
        "##Evaluación del modelo##"
      ]
    },
    {
      "cell_type": "code",
      "metadata": {
        "colab": {
          "base_uri": "https://localhost:8080/"
        },
        "id": "1Ay7vkPqI7ii",
        "outputId": "4b0dfc67-84ea-4eac-84ac-cad532f73c80"
      },
      "source": [
        "from sklearn.metrics import classification_report\n",
        "print(classification_report(y, rgscv.predict(X)))"
      ],
      "execution_count": null,
      "outputs": [
        {
          "output_type": "stream",
          "text": [
            "              precision    recall  f1-score   support\n",
            "\n",
            "           0       0.88      0.93      0.90       494\n",
            "           1       0.87      0.79      0.83       307\n",
            "\n",
            "    accuracy                           0.87       801\n",
            "   macro avg       0.87      0.86      0.86       801\n",
            "weighted avg       0.87      0.87      0.87       801\n",
            "\n"
          ],
          "name": "stdout"
        }
      ]
    },
    {
      "cell_type": "markdown",
      "metadata": {
        "id": "sdNBysrjFA5N"
      },
      "source": [
        ""
      ]
    },
    {
      "cell_type": "markdown",
      "metadata": {
        "id": "iQnKI2SLSZnq"
      },
      "source": [
        "##Predicción##"
      ]
    },
    {
      "cell_type": "code",
      "metadata": {
        "colab": {
          "base_uri": "https://localhost:8080/"
        },
        "id": "mLhyPYaiJ8MR",
        "outputId": "26a5e9d3-ae31-42ca-f7f3-df891fab8e64"
      },
      "source": [
        "X_holdout = pd.read_csv('https://drive.google.com/uc?export=download&id=1I980-_K9iOucJO26SG5_M8RELOQ5VB6A')\n",
        "X_holdout = pp.decisiontree_preprocessing(X_holdout)\n",
        " \n",
        "print(rgscv.predict(X_holdout))"
      ],
      "execution_count": null,
      "outputs": [
        {
          "output_type": "stream",
          "text": [
            "[1 1 0 1 0 1 1 0 0 1 0 1 1 0 0 0 0 1 0 0 1 0 0 1 0 1 1 0 0 1 1 0 1 1 0 0 1\n",
            " 0 0 1 0 1 1 1 0 0 0 0 1 1 0 0 1 0 1 1 0 1 0 0 1 1 0 0 0 0 0 1 1 1 0 0 0 0\n",
            " 0 1 1 0 0 0 0 0 1 0 0 0 0 0 0 0]\n"
          ],
          "name": "stdout"
        }
      ]
    }
  ]
}