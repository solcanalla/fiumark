{
  "nbformat": 4,
  "nbformat_minor": 0,
  "metadata": {
    "colab": {
      "name": "Stacking.ipynb",
      "provenance": [],
      "authorship_tag": "ABX9TyOWFS2Q+AedC3jKPBvwxQMu",
      "include_colab_link": true
    },
    "kernelspec": {
      "name": "python3",
      "display_name": "Python 3"
    }
  },
  "cells": [
    {
      "cell_type": "markdown",
      "metadata": {
        "id": "view-in-github",
        "colab_type": "text"
      },
      "source": [
        "<a href=\"https://colab.research.google.com/github/solcanalla/fiumark/blob/main/stacking.ipynb\" target=\"_parent\"><img src=\"https://colab.research.google.com/assets/colab-badge.svg\" alt=\"Open In Colab\"/></a>"
      ]
    },
    {
      "cell_type": "markdown",
      "metadata": {
        "id": "rw6FiHr1tqI0"
      },
      "source": [
        "##Modelo: Stacking"
      ]
    },
    {
      "cell_type": "markdown",
      "metadata": {
        "id": "QPQeDG-ot_No"
      },
      "source": [
        "##Inicialización##"
      ]
    },
    {
      "cell_type": "code",
      "metadata": {
        "id": "kHRkTnXFuRW4"
      },
      "source": [
        "import pandas as pd\n",
        "import numpy as np\n",
        "from matplotlib import pyplot as plt\n",
        "import seaborn as sns\n",
        "from sklearn.neighbors import KNeighborsClassifier\n",
        "from xgboost import XGBClassifier\n",
        "from sklearn.ensemble import RandomForestClassifier"
      ],
      "execution_count": 2,
      "outputs": []
    },
    {
      "cell_type": "code",
      "metadata": {
        "id": "EHiz6IOGmg7r"
      },
      "source": [
        "from sklearn.metrics import roc_curve, auc\n",
        "\n",
        "def plot_roc(_fpr, _tpr, x):\n",
        "\n",
        "    roc_auc = auc(_fpr, _tpr)\n",
        "\n",
        "    plt.figure(figsize=(15, 10))\n",
        "    plt.plot(\n",
        "        _fpr, _tpr, color='darkorange', lw=2, label=f'ROC curve (area = {roc_auc:.2f})'\n",
        "    )\n",
        "    plt.scatter(_fpr, x)\n",
        "    plt.plot([0, 1], [0, 1], color='navy', lw=2, linestyle='--')\n",
        "    plt.xlim([0.0, 1.0])\n",
        "    plt.ylim([0.0, 1.05])\n",
        "    plt.xlabel('False Positive Rate')\n",
        "    plt.ylabel('True Positive Rate')\n",
        "    plt.title('Receiver operating characteristic')\n",
        "    plt.legend(loc=\"lower right\")\n",
        "    plt.show()"
      ],
      "execution_count": 3,
      "outputs": []
    },
    {
      "cell_type": "code",
      "metadata": {
        "colab": {
          "base_uri": "https://localhost:8080/"
        },
        "id": "eGk46gxou77K",
        "outputId": "34bfe23f-6b97-4d35-d3b9-49f106ce3223"
      },
      "source": [
        "!git clone https://github.com/solcanalla/fiumark.git\n",
        "%cd fiumark\n",
        "!git pull origin main\n",
        "import preprocessing as pp"
      ],
      "execution_count": 4,
      "outputs": [
        {
          "output_type": "stream",
          "text": [
            "Cloning into 'fiumark'...\n",
            "remote: Enumerating objects: 183, done.\u001b[K\n",
            "remote: Counting objects: 100% (183/183), done.\u001b[K\n",
            "remote: Compressing objects: 100% (156/156), done.\u001b[K\n",
            "remote: Total 183 (delta 97), reused 59 (delta 26), pack-reused 0\u001b[K\n",
            "Receiving objects: 100% (183/183), 506.02 KiB | 3.98 MiB/s, done.\n",
            "Resolving deltas: 100% (97/97), done.\n",
            "/content/fiumark\n",
            "From https://github.com/solcanalla/fiumark\n",
            " * branch            main       -> FETCH_HEAD\n",
            "Already up to date.\n"
          ],
          "name": "stdout"
        }
      ]
    },
    {
      "cell_type": "markdown",
      "metadata": {
        "id": "YdImKBWuuOMb"
      },
      "source": [
        "##Pre procesamiento##"
      ]
    },
    {
      "cell_type": "code",
      "metadata": {
        "id": "_ur-JarkuynM"
      },
      "source": [
        "pd.options.display.max_columns = None\n",
        "df = pp.get_dataset()\n",
        "df = pp.knn_preprocessing(df)\n",
        "X_train, X_test, y_train, y_test = pp.get_train_test_data(df)"
      ],
      "execution_count": 5,
      "outputs": []
    },
    {
      "cell_type": "markdown",
      "metadata": {
        "id": "PGUyb9ktuDG_"
      },
      "source": [
        "##Entrenamiento##"
      ]
    },
    {
      "cell_type": "code",
      "metadata": {
        "id": "ABdmOoe0uSuQ"
      },
      "source": [
        "from sklearn.ensemble import StackingClassifier\n",
        "\n",
        "clf_1 = KNeighborsClassifier(weights='distance', metric='minkowski',algorithm='ball_tree')\n",
        "clf_2 = RandomForestClassifier(criterion='entropy')\n",
        "clf_3 = XGBClassifier(max_depth= 2, min_child_weight= 2,n_estimators=55)\n",
        "stacking_model = StackingClassifier(estimators=[('clf_1', clf_1), ('clf_2', clf_2),('clf_3',clf_3)])"
      ],
      "execution_count": 6,
      "outputs": []
    },
    {
      "cell_type": "code",
      "metadata": {
        "id": "dy_WvlUczzgD"
      },
      "source": [
        "from sklearn.model_selection import GridSearchCV\n",
        "\n",
        "params = {\n",
        "    'clf_2__n_estimators': np.arange(60,100,10),\n",
        "    'clf_2__max_depth': np.arange(1,10,2),\n",
        "    'clf_1__n_neighbors':np.arange(1,20,2)\n",
        "}\n",
        "\n",
        "gscv = GridSearchCV(\n",
        "    stacking_model, params,scoring='roc_auc', n_jobs=-1, cv=5, return_train_score=True\n",
        ").fit(X_train, y_train)"
      ],
      "execution_count": 7,
      "outputs": []
    },
    {
      "cell_type": "code",
      "metadata": {
        "colab": {
          "base_uri": "https://localhost:8080/"
        },
        "id": "5bP-TChV1iqj",
        "outputId": "4f8fcbf4-1f7b-4e97-db12-91cad450a11e"
      },
      "source": [
        "print(f\"Best score: {gscv.best_score_}\")\n",
        "print(f\"Best params {gscv.best_params_}\")"
      ],
      "execution_count": 8,
      "outputs": [
        {
          "output_type": "stream",
          "text": [
            "Best score: 0.8641939932618616\n",
            "Best params {'clf_1__n_neighbors': 1, 'clf_2__max_depth': 9, 'clf_2__n_estimators': 70}\n"
          ],
          "name": "stdout"
        }
      ]
    },
    {
      "cell_type": "markdown",
      "metadata": {
        "id": "E6DEcylduHoL"
      },
      "source": [
        "##Evaluación del modelo##"
      ]
    },
    {
      "cell_type": "code",
      "metadata": {
        "id": "SjBkc68EbKvZ"
      },
      "source": [
        "y_pred = gscv.predict(X_test)"
      ],
      "execution_count": 9,
      "outputs": []
    },
    {
      "cell_type": "markdown",
      "metadata": {
        "id": "VS2YuL5GbOeT"
      },
      "source": [
        "##Precision recall y F1-score###"
      ]
    },
    {
      "cell_type": "code",
      "metadata": {
        "colab": {
          "base_uri": "https://localhost:8080/"
        },
        "id": "ZODKtWBQwvwq",
        "outputId": "544597b6-d513-47b3-bc70-354911aa781c"
      },
      "source": [
        "from sklearn.metrics import classification_report\n",
        "\n",
        "print(classification_report(y_test, y_pred))"
      ],
      "execution_count": 10,
      "outputs": [
        {
          "output_type": "stream",
          "text": [
            "              precision    recall  f1-score   support\n",
            "\n",
            "         0.0       0.81      0.93      0.87        95\n",
            "         1.0       0.87      0.70      0.77        66\n",
            "\n",
            "    accuracy                           0.83       161\n",
            "   macro avg       0.84      0.81      0.82       161\n",
            "weighted avg       0.84      0.83      0.83       161\n",
            "\n"
          ],
          "name": "stdout"
        }
      ]
    },
    {
      "cell_type": "markdown",
      "metadata": {
        "id": "FrZS1oxhbSLw"
      },
      "source": [
        "###Accuracy###"
      ]
    },
    {
      "cell_type": "code",
      "metadata": {
        "colab": {
          "base_uri": "https://localhost:8080/"
        },
        "id": "cg4YmbikbWBE",
        "outputId": "de5e86b3-2e78-41f4-ac6d-931967b93908"
      },
      "source": [
        "from sklearn.metrics import accuracy_score\n",
        "accuracy = accuracy_score(y_test, y_pred)\n",
        "accuracy"
      ],
      "execution_count": 11,
      "outputs": [
        {
          "output_type": "execute_result",
          "data": {
            "text/plain": [
              "0.8322981366459627"
            ]
          },
          "metadata": {
            "tags": []
          },
          "execution_count": 11
        }
      ]
    },
    {
      "cell_type": "markdown",
      "metadata": {
        "id": "YvOqC1C-bUFS"
      },
      "source": [
        "###Auc-Roc###"
      ]
    },
    {
      "cell_type": "code",
      "metadata": {
        "colab": {
          "base_uri": "https://localhost:8080/"
        },
        "id": "iemjrwTWbeo1",
        "outputId": "b92c7ab0-4163-4d60-affc-ba50ee571a93"
      },
      "source": [
        "from sklearn.metrics import roc_auc_score\n",
        "auc_roc = roc_auc_score(y_test, y_pred)\n",
        "auc_roc"
      ],
      "execution_count": 12,
      "outputs": [
        {
          "output_type": "execute_result",
          "data": {
            "text/plain": [
              "0.8116427432216906"
            ]
          },
          "metadata": {
            "tags": []
          },
          "execution_count": 12
        }
      ]
    },
    {
      "cell_type": "code",
      "metadata": {
        "id": "9Vbn2trome3y",
        "colab": {
          "base_uri": "https://localhost:8080/",
          "height": 621
        },
        "outputId": "c9050ea0-4adf-464f-e80c-0621776e1436"
      },
      "source": [
        "fpr, tpr, thresholds = roc_curve(y_test, y_pred)\n",
        "plot_roc(fpr, tpr, thresholds)"
      ],
      "execution_count": 33,
      "outputs": [
        {
          "output_type": "display_data",
          "data": {
            "image/png": "[encoded data removed]",
            "text/plain": [
              "<Figure size 1080x720 with 1 Axes>"
            ]
          },
          "metadata": {
            "tags": [],
            "needs_background": "light"
          }
        }
      ]
    },
    {
      "cell_type": "markdown",
      "metadata": {
        "id": "wD-6i08iiTxW"
      },
      "source": [
        "###Matriz de confusión###"
      ]
    },
    {
      "cell_type": "code",
      "metadata": {
        "colab": {
          "base_uri": "https://localhost:8080/",
          "height": 404
        },
        "id": "cNR_mZTziSNL",
        "outputId": "b1ee6573-38c9-45f0-a122-d83d4e49c90b"
      },
      "source": [
        "from sklearn.metrics import confusion_matrix\n",
        "\n",
        "def plot_confusion_matrix(y_true, y_pred):\n",
        "    names = sorted(set(y_true))\n",
        "    cm = confusion_matrix(y_true, y_pred, names)\n",
        "    df_cm = pd.DataFrame(cm, names, names)\n",
        "\n",
        "    plt.figure(dpi=100)\n",
        "    plt.title(\"Matriz de confusion\")\n",
        "    sns.heatmap(df_cm, annot=True, annot_kws={\"size\": 16}, fmt='g', square=True)\n",
        "    plt.ylabel(\"True label\")\n",
        "    plt.xlabel(\"Predicted label\")\n",
        "    plt.show()\n",
        "\n",
        "\n",
        "plot_confusion_matrix(y_test, y_pred)"
      ],
      "execution_count": 13,
      "outputs": [
        {
          "output_type": "display_data",
          "data": {
            "image/png": "[encoded data removed]",
            "text/plain": [
              "<Figure size 600x400 with 2 Axes>"
            ]
          },
          "metadata": {
            "tags": [],
            "needs_background": "light"
          }
        }
      ]
    },
    {
      "cell_type": "markdown",
      "metadata": {
        "id": "1aRBFmh9uBJm"
      },
      "source": [
        "##Predicción##"
      ]
    },
    {
      "cell_type": "code",
      "metadata": {
        "colab": {
          "base_uri": "https://localhost:8080/",
          "height": 407
        },
        "id": "GL0x1QB1uFdC",
        "outputId": "96a585ea-b45b-444d-bc19-74898587643d"
      },
      "source": [
        "X_holdout = pd.read_csv('https://drive.google.com/uc?export=download&id=1I980-_K9iOucJO26SG5_M8RELOQ5VB6A')\n",
        "X = pp.knn_preprocessing(X_holdout)\n",
        "prediction = pd.DataFrame(gscv.predict(X),columns=['volveria'],dtype=int)\n",
        "pred_formatted = pd.concat([X_holdout.id_usuario,prediction],axis=1)\n",
        "pred_formatted.to_csv('stacking.csv')\n",
        "pred_formatted"
      ],
      "execution_count": 14,
      "outputs": [
        {
          "output_type": "execute_result",
          "data": {
            "text/html": [
              "<div>\n",
              "<style scoped>\n",
              "    .dataframe tbody tr th:only-of-type {\n",
              "        vertical-align: middle;\n",
              "    }\n",
              "\n",
              "    .dataframe tbody tr th {\n",
              "        vertical-align: top;\n",
              "    }\n",
              "\n",
              "    .dataframe thead th {\n",
              "        text-align: right;\n",
              "    }\n",
              "</style>\n",
              "<table border=\"1\" class=\"dataframe\">\n",
              "  <thead>\n",
              "    <tr style=\"text-align: right;\">\n",
              "      <th></th>\n",
              "      <th>id_usuario</th>\n",
              "      <th>volveria</th>\n",
              "    </tr>\n",
              "  </thead>\n",
              "  <tbody>\n",
              "    <tr>\n",
              "      <th>0</th>\n",
              "      <td>650</td>\n",
              "      <td>1</td>\n",
              "    </tr>\n",
              "    <tr>\n",
              "      <th>1</th>\n",
              "      <td>234</td>\n",
              "      <td>0</td>\n",
              "    </tr>\n",
              "    <tr>\n",
              "      <th>2</th>\n",
              "      <td>31</td>\n",
              "      <td>0</td>\n",
              "    </tr>\n",
              "    <tr>\n",
              "      <th>3</th>\n",
              "      <td>552</td>\n",
              "      <td>1</td>\n",
              "    </tr>\n",
              "    <tr>\n",
              "      <th>4</th>\n",
              "      <td>411</td>\n",
              "      <td>0</td>\n",
              "    </tr>\n",
              "    <tr>\n",
              "      <th>...</th>\n",
              "      <td>...</td>\n",
              "      <td>...</td>\n",
              "    </tr>\n",
              "    <tr>\n",
              "      <th>85</th>\n",
              "      <td>354</td>\n",
              "      <td>0</td>\n",
              "    </tr>\n",
              "    <tr>\n",
              "      <th>86</th>\n",
              "      <td>82</td>\n",
              "      <td>0</td>\n",
              "    </tr>\n",
              "    <tr>\n",
              "      <th>87</th>\n",
              "      <td>172</td>\n",
              "      <td>0</td>\n",
              "    </tr>\n",
              "    <tr>\n",
              "      <th>88</th>\n",
              "      <td>8</td>\n",
              "      <td>0</td>\n",
              "    </tr>\n",
              "    <tr>\n",
              "      <th>89</th>\n",
              "      <td>640</td>\n",
              "      <td>0</td>\n",
              "    </tr>\n",
              "  </tbody>\n",
              "</table>\n",
              "<p>90 rows × 2 columns</p>\n",
              "</div>"
            ],
            "text/plain": [
              "    id_usuario  volveria\n",
              "0          650         1\n",
              "1          234         0\n",
              "2           31         0\n",
              "3          552         1\n",
              "4          411         0\n",
              "..         ...       ...\n",
              "85         354         0\n",
              "86          82         0\n",
              "87         172         0\n",
              "88           8         0\n",
              "89         640         0\n",
              "\n",
              "[90 rows x 2 columns]"
            ]
          },
          "metadata": {
            "tags": []
          },
          "execution_count": 14
        }
      ]
    }
  ]
}