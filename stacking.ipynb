{
  "nbformat": 4,
  "nbformat_minor": 0,
  "metadata": {
    "colab": {
      "name": "Stacking.ipynb",
      "provenance": [],
      "authorship_tag": "ABX9TyOb/x7dRpaBLraWj90bnaxP",
      "include_colab_link": true
    },
    "kernelspec": {
      "name": "python3",
      "display_name": "Python 3"
    }
  },
  "cells": [
    {
      "cell_type": "markdown",
      "metadata": {
        "id": "view-in-github",
        "colab_type": "text"
      },
      "source": [
        "<a href=\"https://colab.research.google.com/github/solcanalla/fiumark/blob/main/stacking.ipynb\" target=\"_parent\"><img src=\"https://colab.research.google.com/assets/colab-badge.svg\" alt=\"Open In Colab\"/></a>"
      ]
    },
    {
      "cell_type": "markdown",
      "metadata": {
        "id": "rw6FiHr1tqI0"
      },
      "source": [
        "##Modelo: Stacking"
      ]
    },
    {
      "cell_type": "markdown",
      "metadata": {
        "id": "QPQeDG-ot_No"
      },
      "source": [
        "##Inicialización##"
      ]
    },
    {
      "cell_type": "code",
      "metadata": {
        "id": "kHRkTnXFuRW4"
      },
      "source": [
        "import pandas as pd\n",
        "import numpy as np\n",
        "from matplotlib import pyplot as plt\n",
        "import seaborn as sns\n",
        "from sklearn.metrics import roc_auc_score\n",
        "from sklearn.neighbors import KNeighborsClassifier\n",
        "from xgboost import XGBClassifier\n",
        "from sklearn.ensemble import RandomForestClassifier"
      ],
      "execution_count": 1,
      "outputs": []
    },
    {
      "cell_type": "code",
      "metadata": {
        "colab": {
          "base_uri": "https://localhost:8080/"
        },
        "id": "eGk46gxou77K",
        "outputId": "d51787b5-af57-49a7-a358-658f303436aa"
      },
      "source": [
        "!git clone https://github.com/solcanalla/fiumark.git\n",
        "%cd fiumark\n",
        "!git pull origin main\n",
        "import preprocessing as pp"
      ],
      "execution_count": 2,
      "outputs": [
        {
          "output_type": "stream",
          "text": [
            "fatal: destination path 'fiumark' already exists and is not an empty directory.\n",
            "/content/fiumark\n",
            "remote: Enumerating objects: 5, done.\u001b[K\n",
            "remote: Counting objects: 100% (5/5), done.\u001b[K\n",
            "remote: Compressing objects: 100% (1/1), done.\u001b[K\n",
            "remote: Total 3 (delta 2), reused 3 (delta 2), pack-reused 0\u001b[K\n",
            "Unpacking objects: 100% (3/3), done.\n",
            "From https://github.com/solcanalla/fiumark\n",
            " * branch            main       -> FETCH_HEAD\n",
            "   8742523..0e18d06  main       -> origin/main\n",
            "Updating 8742523..0e18d06\n",
            "Fast-forward\n",
            " preprocessing.py | 2 \u001b[32m++\u001b[m\n",
            " 1 file changed, 2 insertions(+)\n"
          ],
          "name": "stdout"
        }
      ]
    },
    {
      "cell_type": "markdown",
      "metadata": {
        "id": "0dqJ7lvl0zv1"
      },
      "source": [
        "##Modelo 1##"
      ]
    },
    {
      "cell_type": "markdown",
      "metadata": {
        "id": "YdImKBWuuOMb"
      },
      "source": [
        "###Pre procesamiento###"
      ]
    },
    {
      "cell_type": "code",
      "metadata": {
        "id": "_ur-JarkuynM"
      },
      "source": [
        "pd.options.display.max_columns = None\n",
        "df = pp.get_dataset()\n",
        "df1 = pp.scaler_min_features_preprocessing(df)\n",
        "X_train1, X_test1, y_train1, y_test1 = pp.get_train_test_data(df1)"
      ],
      "execution_count": 3,
      "outputs": []
    },
    {
      "cell_type": "markdown",
      "metadata": {
        "id": "PGUyb9ktuDG_"
      },
      "source": [
        "###Entrenamiento###"
      ]
    },
    {
      "cell_type": "markdown",
      "metadata": {
        "id": "HIbEPMyDWiEP"
      },
      "source": [
        "Tomamos los hiperparámetros que mejor se ajustaron en los entrenamientos de cada modelo por si solo como base, dejando variar sólo los parámetros más relevantes."
      ]
    },
    {
      "cell_type": "code",
      "metadata": {
        "id": "ABdmOoe0uSuQ"
      },
      "source": [
        "from sklearn.ensemble import StackingClassifier\n",
        "\n",
        "clf_1 = KNeighborsClassifier(metric='minkowski',algorithm='ball_tree')\n",
        "clf_2 = RandomForestClassifier(max_depth=9, max_features=3)\n",
        "clf_3 = XGBClassifier(max_depth= 2)\n",
        "stacking_model = StackingClassifier(estimators=[('clf_1', clf_1), ('clf_2', clf_2),('clf_3',clf_3)])"
      ],
      "execution_count": 4,
      "outputs": []
    },
    {
      "cell_type": "code",
      "metadata": {
        "id": "dy_WvlUczzgD"
      },
      "source": [
        "from sklearn.model_selection import GridSearchCV\n",
        "\n",
        "params = {\n",
        "    'clf_1__n_neighbors':np.arange(2,20,2),\n",
        "    'clf_2__n_estimators': np.arange(20,60,10),\n",
        "    'clf_3__n_estimators':np.arange(30,50,5)\n",
        "\n",
        "}\n",
        "\n",
        "gscv1 = GridSearchCV(\n",
        "    stacking_model, params,scoring='roc_auc', n_jobs=-1, cv=5, return_train_score=True\n",
        ").fit(X_train1, y_train1)"
      ],
      "execution_count": 5,
      "outputs": []
    },
    {
      "cell_type": "code",
      "metadata": {
        "colab": {
          "base_uri": "https://localhost:8080/"
        },
        "id": "5bP-TChV1iqj",
        "outputId": "064c0d71-00e0-4553-f3e3-ba93dc25267a"
      },
      "source": [
        "print(f\"Best score: {gscv1.best_score_}\")\n",
        "print(f\"Best params {gscv1.best_params_}\")"
      ],
      "execution_count": 6,
      "outputs": [
        {
          "output_type": "stream",
          "text": [
            "Best score: 0.8525559246641695\n",
            "Best params {'clf_1__n_neighbors': 10, 'clf_2__n_estimators': 20, 'clf_3__n_estimators': 35}\n"
          ],
          "name": "stdout"
        }
      ]
    },
    {
      "cell_type": "markdown",
      "metadata": {
        "id": "1osnu9Dv07OP"
      },
      "source": [
        "##Modelo 2##"
      ]
    },
    {
      "cell_type": "markdown",
      "metadata": {
        "id": "Q5EpprpM07OZ"
      },
      "source": [
        "###Pre procesamiento###"
      ]
    },
    {
      "cell_type": "code",
      "metadata": {
        "id": "WzaYmkR507Oa"
      },
      "source": [
        "pd.options.display.max_columns = None\n",
        "df = pp.get_dataset()\n",
        "df2 = pp.scaler_ff_column_preprocessing(df)\n",
        "X_train2, X_test2, y_train2, y_test2 = pp.get_train_test_data(df2)"
      ],
      "execution_count": 7,
      "outputs": []
    },
    {
      "cell_type": "markdown",
      "metadata": {
        "id": "S3BXSF3207Ob"
      },
      "source": [
        "###Entrenamiento###"
      ]
    },
    {
      "cell_type": "markdown",
      "metadata": {
        "id": "FVxVWjIb07Ob"
      },
      "source": [
        "Tomamos los hiperparámetros que mejor se ajustaron en los entrenamientos de cada modelo por si solo como base, dejando variar sólo los parámetros más relevantes."
      ]
    },
    {
      "cell_type": "code",
      "metadata": {
        "id": "2eILhIyH07Ob"
      },
      "source": [
        "from sklearn.ensemble import StackingClassifier\n",
        "\n",
        "clf_1 = KNeighborsClassifier(metric='minkowski',algorithm='ball_tree')\n",
        "clf_2 = RandomForestClassifier(max_depth=9, max_features=3)\n",
        "clf_3 = XGBClassifier(max_depth= 2)\n",
        "stacking_model = StackingClassifier(estimators=[('clf_1', clf_1), ('clf_2', clf_2),('clf_3',clf_3)])"
      ],
      "execution_count": 8,
      "outputs": []
    },
    {
      "cell_type": "code",
      "metadata": {
        "id": "ZPXK6YKc07Oc"
      },
      "source": [
        "from sklearn.model_selection import GridSearchCV\n",
        "\n",
        "params = {\n",
        "    'clf_1__n_neighbors':np.arange(2,20,2),\n",
        "    'clf_2__n_estimators': np.arange(20,60,10),\n",
        "    'clf_3__n_estimators':np.arange(30,50,5)\n",
        "\n",
        "}\n",
        "\n",
        "gscv2 = GridSearchCV(\n",
        "    stacking_model, params,scoring='roc_auc', n_jobs=-1, cv=5, return_train_score=True\n",
        ").fit(X_train2, y_train2)"
      ],
      "execution_count": 10,
      "outputs": []
    },
    {
      "cell_type": "code",
      "metadata": {
        "colab": {
          "base_uri": "https://localhost:8080/"
        },
        "id": "8AFHb6J107Oc",
        "outputId": "b98cfe4d-d548-414a-e420-dd071274f193"
      },
      "source": [
        "print(f\"Best score: {gscv2.best_score_}\")\n",
        "print(f\"Best params {gscv2.best_params_}\")"
      ],
      "execution_count": 11,
      "outputs": [
        {
          "output_type": "stream",
          "text": [
            "Best score: 0.8527023728795315\n",
            "Best params {'clf_1__n_neighbors': 8, 'clf_2__n_estimators': 30, 'clf_3__n_estimators': 30}\n"
          ],
          "name": "stdout"
        }
      ]
    },
    {
      "cell_type": "markdown",
      "metadata": {
        "id": "E6DEcylduHoL"
      },
      "source": [
        "##Evaluación del modelo##"
      ]
    },
    {
      "cell_type": "code",
      "metadata": {
        "id": "SjBkc68EbKvZ"
      },
      "source": [
        "y_pred = gscv2.predict(X_test2)"
      ],
      "execution_count": 12,
      "outputs": []
    },
    {
      "cell_type": "markdown",
      "metadata": {
        "id": "VS2YuL5GbOeT"
      },
      "source": [
        "##Precision recall y F1-score###"
      ]
    },
    {
      "cell_type": "code",
      "metadata": {
        "colab": {
          "base_uri": "https://localhost:8080/"
        },
        "id": "ZODKtWBQwvwq",
        "outputId": "cf35fdc0-7d16-459e-9e3b-0123de915e56"
      },
      "source": [
        "from sklearn.metrics import classification_report\n",
        "\n",
        "print(classification_report(y_test2, y_pred))"
      ],
      "execution_count": 13,
      "outputs": [
        {
          "output_type": "stream",
          "text": [
            "              precision    recall  f1-score   support\n",
            "\n",
            "         0.0       0.83      0.91      0.87        95\n",
            "         1.0       0.84      0.74      0.79        66\n",
            "\n",
            "    accuracy                           0.84       161\n",
            "   macro avg       0.84      0.82      0.83       161\n",
            "weighted avg       0.84      0.84      0.84       161\n",
            "\n"
          ],
          "name": "stdout"
        }
      ]
    },
    {
      "cell_type": "markdown",
      "metadata": {
        "id": "FrZS1oxhbSLw"
      },
      "source": [
        "###Accuracy###"
      ]
    },
    {
      "cell_type": "code",
      "metadata": {
        "colab": {
          "base_uri": "https://localhost:8080/"
        },
        "id": "cg4YmbikbWBE",
        "outputId": "56c87c7a-336a-40fa-d132-5e3f4e8ea4c2"
      },
      "source": [
        "from sklearn.metrics import accuracy_score\n",
        "accuracy = accuracy_score(y_test2, y_pred)\n",
        "accuracy"
      ],
      "execution_count": 14,
      "outputs": [
        {
          "output_type": "execute_result",
          "data": {
            "text/plain": [
              "0.8385093167701864"
            ]
          },
          "metadata": {
            "tags": []
          },
          "execution_count": 14
        }
      ]
    },
    {
      "cell_type": "markdown",
      "metadata": {
        "id": "YvOqC1C-bUFS"
      },
      "source": [
        "###Auc-Roc###"
      ]
    },
    {
      "cell_type": "code",
      "metadata": {
        "colab": {
          "base_uri": "https://localhost:8080/"
        },
        "id": "iemjrwTWbeo1",
        "outputId": "7e903a90-3d32-47f9-c18e-d5de47672c3f"
      },
      "source": [
        "from sklearn.metrics import roc_auc_score\n",
        "auc_roc = roc_auc_score(y_test2, y_pred)\n",
        "auc_roc"
      ],
      "execution_count": 15,
      "outputs": [
        {
          "output_type": "execute_result",
          "data": {
            "text/plain": [
              "0.8238437001594896"
            ]
          },
          "metadata": {
            "tags": []
          },
          "execution_count": 15
        }
      ]
    },
    {
      "cell_type": "code",
      "metadata": {
        "id": "9Vbn2trome3y",
        "colab": {
          "base_uri": "https://localhost:8080/",
          "height": 279
        },
        "outputId": "7f62f69d-9b93-46be-c8a9-2e487c48be2a"
      },
      "source": [
        "from sklearn.metrics import plot_roc_curve\n",
        "plot_roc_curve(gscv2.best_estimator_, X_test2, y_test2)  \n",
        "plt.show()"
      ],
      "execution_count": 16,
      "outputs": [
        {
          "output_type": "display_data",
          "data": {
            "image/png": "[encoded data removed]",
            "text/plain": [
              "<Figure size 432x288 with 1 Axes>"
            ]
          },
          "metadata": {
            "tags": [],
            "needs_background": "light"
          }
        }
      ]
    },
    {
      "cell_type": "markdown",
      "metadata": {
        "id": "wD-6i08iiTxW"
      },
      "source": [
        "###Matriz de confusión###"
      ]
    },
    {
      "cell_type": "code",
      "metadata": {
        "colab": {
          "base_uri": "https://localhost:8080/",
          "height": 404
        },
        "id": "cNR_mZTziSNL",
        "outputId": "82e00b17-0934-4424-a428-02b79ef294ee"
      },
      "source": [
        "from sklearn.metrics import confusion_matrix\n",
        "\n",
        "def plot_confusion_matrix(y_true, y_pred):\n",
        "    names = sorted(set(y_true))\n",
        "    cm = confusion_matrix(y_true, y_pred, names)\n",
        "    df_cm = pd.DataFrame(cm, names, names)\n",
        "\n",
        "    plt.figure(dpi=100)\n",
        "    plt.title(\"Matriz de confusion\")\n",
        "    sns.heatmap(df_cm, annot=True, annot_kws={\"size\": 16}, fmt='g', square=True)\n",
        "    plt.ylabel(\"True label\")\n",
        "    plt.xlabel(\"Predicted label\")\n",
        "    plt.show()\n",
        "\n",
        "\n",
        "plot_confusion_matrix(y_test2, y_pred)"
      ],
      "execution_count": 17,
      "outputs": [
        {
          "output_type": "display_data",
          "data": {
            "image/png": "[encoded data removed]",
            "text/plain": [
              "<Figure size 600x400 with 2 Axes>"
            ]
          },
          "metadata": {
            "tags": [],
            "needs_background": "light"
          }
        }
      ]
    },
    {
      "cell_type": "markdown",
      "metadata": {
        "id": "1aRBFmh9uBJm"
      },
      "source": [
        "##Predicción##"
      ]
    },
    {
      "cell_type": "code",
      "metadata": {
        "colab": {
          "base_uri": "https://localhost:8080/",
          "height": 419
        },
        "id": "GL0x1QB1uFdC",
        "outputId": "90909c0f-f6f1-49c9-e8e3-e1b229780b92"
      },
      "source": [
        "X_holdout = pd.read_csv('https://drive.google.com/uc?export=download&id=1I980-_K9iOucJO26SG5_M8RELOQ5VB6A')\n",
        "X = pp.scaler_ff_column_preprocessing(X_holdout)\n",
        "prediction = pd.DataFrame(gscv2.predict(X),columns=['volveria'],dtype=int)\n",
        "pred_formatted = pd.concat([X_holdout.id_usuario,prediction],axis=1)\n",
        "pred_formatted.to_csv('stacking.csv')\n",
        "pred_formatted"
      ],
      "execution_count": 18,
      "outputs": [
        {
          "output_type": "execute_result",
          "data": {
            "text/html": [
              "<div>\n",
              "<style scoped>\n",
              "    .dataframe tbody tr th:only-of-type {\n",
              "        vertical-align: middle;\n",
              "    }\n",
              "\n",
              "    .dataframe tbody tr th {\n",
              "        vertical-align: top;\n",
              "    }\n",
              "\n",
              "    .dataframe thead th {\n",
              "        text-align: right;\n",
              "    }\n",
              "</style>\n",
              "<table border=\"1\" class=\"dataframe\">\n",
              "  <thead>\n",
              "    <tr style=\"text-align: right;\">\n",
              "      <th></th>\n",
              "      <th>id_usuario</th>\n",
              "      <th>volveria</th>\n",
              "    </tr>\n",
              "  </thead>\n",
              "  <tbody>\n",
              "    <tr>\n",
              "      <th>0</th>\n",
              "      <td>650</td>\n",
              "      <td>1</td>\n",
              "    </tr>\n",
              "    <tr>\n",
              "      <th>1</th>\n",
              "      <td>234</td>\n",
              "      <td>0</td>\n",
              "    </tr>\n",
              "    <tr>\n",
              "      <th>2</th>\n",
              "      <td>31</td>\n",
              "      <td>0</td>\n",
              "    </tr>\n",
              "    <tr>\n",
              "      <th>3</th>\n",
              "      <td>552</td>\n",
              "      <td>0</td>\n",
              "    </tr>\n",
              "    <tr>\n",
              "      <th>4</th>\n",
              "      <td>411</td>\n",
              "      <td>0</td>\n",
              "    </tr>\n",
              "    <tr>\n",
              "      <th>...</th>\n",
              "      <td>...</td>\n",
              "      <td>...</td>\n",
              "    </tr>\n",
              "    <tr>\n",
              "      <th>85</th>\n",
              "      <td>354</td>\n",
              "      <td>0</td>\n",
              "    </tr>\n",
              "    <tr>\n",
              "      <th>86</th>\n",
              "      <td>82</td>\n",
              "      <td>0</td>\n",
              "    </tr>\n",
              "    <tr>\n",
              "      <th>87</th>\n",
              "      <td>172</td>\n",
              "      <td>0</td>\n",
              "    </tr>\n",
              "    <tr>\n",
              "      <th>88</th>\n",
              "      <td>8</td>\n",
              "      <td>0</td>\n",
              "    </tr>\n",
              "    <tr>\n",
              "      <th>89</th>\n",
              "      <td>640</td>\n",
              "      <td>0</td>\n",
              "    </tr>\n",
              "  </tbody>\n",
              "</table>\n",
              "<p>90 rows × 2 columns</p>\n",
              "</div>"
            ],
            "text/plain": [
              "    id_usuario  volveria\n",
              "0          650         1\n",
              "1          234         0\n",
              "2           31         0\n",
              "3          552         0\n",
              "4          411         0\n",
              "..         ...       ...\n",
              "85         354         0\n",
              "86          82         0\n",
              "87         172         0\n",
              "88           8         0\n",
              "89         640         0\n",
              "\n",
              "[90 rows x 2 columns]"
            ]
          },
          "metadata": {
            "tags": []
          },
          "execution_count": 18
        }
      ]
    }
  ]
}