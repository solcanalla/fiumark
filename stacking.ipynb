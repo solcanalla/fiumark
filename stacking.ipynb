{
  "nbformat": 4,
  "nbformat_minor": 0,
  "metadata": {
    "colab": {
      "name": "Stacking.ipynb",
      "provenance": [],
      "toc_visible": true,
      "authorship_tag": "ABX9TyNwLfkt0iHTGWcfvAvxt0M8",
      "include_colab_link": true
    },
    "kernelspec": {
      "name": "python3",
      "display_name": "Python 3"
    }
  },
  "cells": [
    {
      "cell_type": "markdown",
      "metadata": {
        "id": "view-in-github",
        "colab_type": "text"
      },
      "source": [
        "<a href=\"https://colab.research.google.com/github/solcanalla/fiumark/blob/main/stacking.ipynb\" target=\"_parent\"><img src=\"https://colab.research.google.com/assets/colab-badge.svg\" alt=\"Open In Colab\"/></a>"
      ]
    },
    {
      "cell_type": "markdown",
      "metadata": {
        "id": "rw6FiHr1tqI0"
      },
      "source": [
        "##Modelo: Stacking"
      ]
    },
    {
      "cell_type": "markdown",
      "metadata": {
        "id": "QPQeDG-ot_No"
      },
      "source": [
        "##Inicialización##"
      ]
    },
    {
      "cell_type": "code",
      "metadata": {
        "id": "kHRkTnXFuRW4"
      },
      "source": [
        "import pandas as pd\n",
        "import numpy as np\n",
        "from matplotlib import pyplot as plt\n",
        "import matplotlib.patches as mpatches\n",
        "import matplotlib\n",
        "import seaborn as sns\n",
        "from sklearn.neighbors import KNeighborsClassifier\n",
        "from xgboost import XGBClassifier\n",
        "from sklearn.ensemble import RandomForestClassifier"
      ],
      "execution_count": 1,
      "outputs": []
    },
    {
      "cell_type": "code",
      "metadata": {
        "colab": {
          "base_uri": "https://localhost:8080/"
        },
        "id": "eGk46gxou77K",
        "outputId": "d477916f-1708-42c2-92f8-a580c430975f"
      },
      "source": [
        "!git clone https://github.com/solcanalla/fiumark.git\n",
        "!git pull origin main\n",
        "import fiumark.preprocessing as pp"
      ],
      "execution_count": 37,
      "outputs": [
        {
          "output_type": "stream",
          "text": [
            "Cloning into 'fiumark'...\n",
            "remote: Enumerating objects: 129, done.\u001b[K\n",
            "remote: Counting objects:   0% (1/129)\u001b[K\rremote: Counting objects:   1% (2/129)\u001b[K\rremote: Counting objects:   2% (3/129)\u001b[K\rremote: Counting objects:   3% (4/129)\u001b[K\rremote: Counting objects:   4% (6/129)\u001b[K\rremote: Counting objects:   5% (7/129)\u001b[K\rremote: Counting objects:   6% (8/129)\u001b[K\rremote: Counting objects:   7% (10/129)\u001b[K\rremote: Counting objects:   8% (11/129)\u001b[K\rremote: Counting objects:   9% (12/129)\u001b[K\rremote: Counting objects:  10% (13/129)\u001b[K\rremote: Counting objects:  11% (15/129)\u001b[K\rremote: Counting objects:  12% (16/129)\u001b[K\rremote: Counting objects:  13% (17/129)\u001b[K\rremote: Counting objects:  14% (19/129)\u001b[K\rremote: Counting objects:  15% (20/129)\u001b[K\rremote: Counting objects:  16% (21/129)\u001b[K\rremote: Counting objects:  17% (22/129)\u001b[K\rremote: Counting objects:  18% (24/129)\u001b[K\rremote: Counting objects:  19% (25/129)\u001b[K\rremote: Counting objects:  20% (26/129)\u001b[K\rremote: Counting objects:  21% (28/129)\u001b[K\rremote: Counting objects:  22% (29/129)\u001b[K\rremote: Counting objects:  23% (30/129)\u001b[K\rremote: Counting objects:  24% (31/129)\u001b[K\rremote: Counting objects:  25% (33/129)\u001b[K\rremote: Counting objects:  26% (34/129)\u001b[K\rremote: Counting objects:  27% (35/129)\u001b[K\rremote: Counting objects:  28% (37/129)\u001b[K\rremote: Counting objects:  29% (38/129)\u001b[K\rremote: Counting objects:  30% (39/129)\u001b[K\rremote: Counting objects:  31% (40/129)\u001b[K\rremote: Counting objects:  32% (42/129)\u001b[K\rremote: Counting objects:  33% (43/129)\u001b[K\rremote: Counting objects:  34% (44/129)\u001b[K\rremote: Counting objects:  35% (46/129)\u001b[K\rremote: Counting objects:  36% (47/129)\u001b[K\rremote: Counting objects:  37% (48/129)\u001b[K\rremote: Counting objects:  38% (50/129)\u001b[K\rremote: Counting objects:  39% (51/129)\u001b[K\rremote: Counting objects:  40% (52/129)\u001b[K\rremote: Counting objects:  41% (53/129)\u001b[K\rremote: Counting objects:  42% (55/129)\u001b[K\rremote: Counting objects:  43% (56/129)\u001b[K\rremote: Counting objects:  44% (57/129)\u001b[K\rremote: Counting objects:  45% (59/129)\u001b[K\rremote: Counting objects:  46% (60/129)\u001b[K\rremote: Counting objects:  47% (61/129)\u001b[K\rremote: Counting objects:  48% (62/129)\u001b[K\rremote: Counting objects:  49% (64/129)\u001b[K\rremote: Counting objects:  50% (65/129)\u001b[K\rremote: Counting objects:  51% (66/129)\u001b[K\rremote: Counting objects:  52% (68/129)\u001b[K\rremote: Counting objects:  53% (69/129)\u001b[K\rremote: Counting objects:  54% (70/129)\u001b[K\rremote: Counting objects:  55% (71/129)\u001b[K\rremote: Counting objects:  56% (73/129)\u001b[K\rremote: Counting objects:  57% (74/129)\u001b[K\rremote: Counting objects:  58% (75/129)\u001b[K\rremote: Counting objects:  59% (77/129)\u001b[K\rremote: Counting objects:  60% (78/129)\u001b[K\rremote: Counting objects:  61% (79/129)\u001b[K\rremote: Counting objects:  62% (80/129)\u001b[K\rremote: Counting objects:  63% (82/129)\u001b[K\rremote: Counting objects:  64% (83/129)\u001b[K\rremote: Counting objects:  65% (84/129)\u001b[K\rremote: Counting objects:  66% (86/129)\u001b[K\rremote: Counting objects:  67% (87/129)\u001b[K\rremote: Counting objects:  68% (88/129)\u001b[K\rremote: Counting objects:  69% (90/129)\u001b[K\rremote: Counting objects:  70% (91/129)\u001b[K\rremote: Counting objects:  71% (92/129)\u001b[K\rremote: Counting objects:  72% (93/129)\u001b[K\rremote: Counting objects:  73% (95/129)\u001b[K\rremote: Counting objects:  74% (96/129)\u001b[K\rremote: Counting objects:  75% (97/129)\u001b[K\rremote: Counting objects:  76% (99/129)\u001b[K\rremote: Counting objects:  77% (100/129)\u001b[K\rremote: Counting objects:  78% (101/129)\u001b[K\rremote: Counting objects:  79% (102/129)\u001b[K\rremote: Counting objects:  80% (104/129)\u001b[K\rremote: Counting objects:  81% (105/129)\u001b[K\rremote: Counting objects:  82% (106/129)\u001b[K\rremote: Counting objects:  83% (108/129)\u001b[K\rremote: Counting objects:  84% (109/129)\u001b[K\rremote: Counting objects:  85% (110/129)\u001b[K\rremote: Counting objects:  86% (111/129)\u001b[K\rremote: Counting objects:  87% (113/129)\u001b[K\rremote: Counting objects:  88% (114/129)\u001b[K\rremote: Counting objects:  89% (115/129)\u001b[K\rremote: Counting objects:  90% (117/129)\u001b[K\rremote: Counting objects:  91% (118/129)\u001b[K\rremote: Counting objects:  92% (119/129)\u001b[K\rremote: Counting objects:  93% (120/129)\u001b[K\rremote: Counting objects:  94% (122/129)\u001b[K\rremote: Counting objects:  95% (123/129)\u001b[K\rremote: Counting objects:  96% (124/129)\u001b[K\rremote: Counting objects:  97% (126/129)\u001b[K\rremote: Counting objects:  98% (127/129)\u001b[K\rremote: Counting objects:  99% (128/129)\u001b[K\rremote: Counting objects: 100% (129/129)\u001b[K\rremote: Counting objects: 100% (129/129), done.\u001b[K\n",
            "remote: Compressing objects: 100% (110/110), done.\u001b[K\n",
            "remote: Total 129 (delta 71), reused 44 (delta 18), pack-reused 0\u001b[K\n",
            "Receiving objects: 100% (129/129), 35.38 KiB | 1.68 MiB/s, done.\n",
            "Resolving deltas: 100% (71/71), done.\n",
            "remote: Enumerating objects: 36, done.\u001b[K\n",
            "remote: Counting objects: 100% (36/36), done.\u001b[K\n",
            "remote: Compressing objects: 100% (28/28), done.\u001b[K\n",
            "remote: Total 31 (delta 17), reused 6 (delta 3), pack-reused 0\u001b[K\n",
            "Unpacking objects: 100% (31/31), done.\n",
            "From https://github.com/solcanalla/fiumark\n",
            " * branch            main       -> FETCH_HEAD\n",
            "   d5b5ea9..7e0d5b2  main       -> origin/main\n",
            "Updating d5b5ea9..7e0d5b2\n",
            "Fast-forward\n",
            " decisiontree.ipynb              | 167 \u001b[32m+++++++++++\u001b[m\u001b[31m---\u001b[m\n",
            " knn.ipynb                       | 291 \u001b[32m++++++++++++++++++++\u001b[m\u001b[31m----\u001b[m\n",
            " preprocessing.py                |  16 \u001b[32m+\u001b[m\u001b[31m-\u001b[m\n",
            " randomforest.ipynb              | 184 \u001b[32m++++++++++++\u001b[m\u001b[31m----\u001b[m\n",
            " XGBoost.ipynb => stacking.ipynb | 153 \u001b[32m++++++\u001b[m\u001b[31m-------\u001b[m\n",
            " SVM.ipynb => svm.ipynb          | 196 \u001b[32m++++++++++++\u001b[m\u001b[31m-----\u001b[m\n",
            " xgboost.csv                     |  91 \u001b[32m++++++++\u001b[m\n",
            " xgboost.ipynb                   | 477 \u001b[32m++++++++++++++++++++++++++++++++++++++++\u001b[m\n",
            " 8 files changed, 1323 insertions(+), 252 deletions(-)\n",
            " rename XGBoost.ipynb => stacking.ipynb (71%)\n",
            " rename SVM.ipynb => svm.ipynb (64%)\n",
            " create mode 100644 xgboost.csv\n",
            " create mode 100644 xgboost.ipynb\n"
          ],
          "name": "stdout"
        }
      ]
    },
    {
      "cell_type": "markdown",
      "metadata": {
        "id": "YdImKBWuuOMb"
      },
      "source": [
        "##Pre procesamiento##"
      ]
    },
    {
      "cell_type": "code",
      "metadata": {
        "id": "_ur-JarkuynM"
      },
      "source": [
        "pd.options.display.max_columns = None\n",
        "df = pp.get_dataset()\n",
        "df = pp.knn_preprocessing(df)\n",
        "X_train, X_test, y_train, y_test = pp.get_train_test_data(df)"
      ],
      "execution_count": 38,
      "outputs": []
    },
    {
      "cell_type": "markdown",
      "metadata": {
        "id": "PGUyb9ktuDG_"
      },
      "source": [
        "##Entrenamiento##"
      ]
    },
    {
      "cell_type": "code",
      "metadata": {
        "id": "ABdmOoe0uSuQ"
      },
      "source": [
        "from sklearn.ensemble import StackingClassifier\n",
        "\n",
        "clf_1 = KNeighborsClassifier(weights= 'distance',n_neighbors= 39, metric='minkowski',leaf_size=40,algorithm='auto')\n",
        "clf_2 = RandomForestClassifier(criterion='entropy',max_depth=6,max_features='log2',n_estimators=60)\n",
        "clf_3 = XGBClassifier(max_depth=2,min_child_weight=2,n_estimators=60)\n",
        "stacking_model = StackingClassifier(estimators=[('clf_1', clf_1), ('clf_2', clf_2),('clf_3',clf_3)])"
      ],
      "execution_count": 39,
      "outputs": []
    },
    {
      "cell_type": "code",
      "metadata": {
        "id": "dy_WvlUczzgD"
      },
      "source": [
        "from sklearn.model_selection import GridSearchCV\n",
        "\n",
        "params = {\n",
        "    'clf_2__n_estimators': np.arange(50,100,20),\n",
        "    'clf_2__max_depth': np.arange(1, 8),\n",
        "    'clf_3__max_depth': np.arange(1, 5),\n",
        "    'clf_3__n_estimators': np.arange(60,100,20)\n",
        "}\n",
        "\n",
        "gscv = GridSearchCV(\n",
        "    stacking_model, params,scoring='roc_auc', n_jobs=-1, cv=5, return_train_score=True\n",
        ").fit(X_train, y_train)"
      ],
      "execution_count": 40,
      "outputs": []
    },
    {
      "cell_type": "code",
      "metadata": {
        "colab": {
          "base_uri": "https://localhost:8080/"
        },
        "id": "5bP-TChV1iqj",
        "outputId": "4bb90372-aa15-43d1-9d89-8cec5797cdc5"
      },
      "source": [
        "print(f\"Best score: {gscv.best_score_}\")\n",
        "print(f\"Best params {gscv.best_params_}\")"
      ],
      "execution_count": 41,
      "outputs": [
        {
          "output_type": "stream",
          "text": [
            "Best score: 0.8637944275811591\n",
            "Best params {'clf_2__max_depth': 6, 'clf_2__n_estimators': 50, 'clf_3__max_depth': 2, 'clf_3__n_estimators': 60}\n"
          ],
          "name": "stdout"
        }
      ]
    },
    {
      "cell_type": "markdown",
      "metadata": {
        "id": "E6DEcylduHoL"
      },
      "source": [
        "##Evaluación del modelo##"
      ]
    },
    {
      "cell_type": "code",
      "metadata": {
        "id": "SjBkc68EbKvZ"
      },
      "source": [
        "y_pred = gscv.predict(X_test)"
      ],
      "execution_count": 42,
      "outputs": []
    },
    {
      "cell_type": "markdown",
      "metadata": {
        "id": "VS2YuL5GbOeT"
      },
      "source": [
        "##Precision recall y F1-score###"
      ]
    },
    {
      "cell_type": "code",
      "metadata": {
        "colab": {
          "base_uri": "https://localhost:8080/"
        },
        "id": "ZODKtWBQwvwq",
        "outputId": "169c440a-b925-42af-be30-9f869f431394"
      },
      "source": [
        "from sklearn.metrics import classification_report\n",
        "\n",
        "print(classification_report(y_test, y_pred))"
      ],
      "execution_count": 43,
      "outputs": [
        {
          "output_type": "stream",
          "text": [
            "              precision    recall  f1-score   support\n",
            "\n",
            "         0.0       0.82      0.93      0.87        95\n",
            "         1.0       0.87      0.71      0.78        66\n",
            "\n",
            "    accuracy                           0.84       161\n",
            "   macro avg       0.85      0.82      0.83       161\n",
            "weighted avg       0.84      0.84      0.84       161\n",
            "\n"
          ],
          "name": "stdout"
        }
      ]
    },
    {
      "cell_type": "markdown",
      "metadata": {
        "id": "FrZS1oxhbSLw"
      },
      "source": [
        "###Accuracy###"
      ]
    },
    {
      "cell_type": "code",
      "metadata": {
        "colab": {
          "base_uri": "https://localhost:8080/"
        },
        "id": "cg4YmbikbWBE",
        "outputId": "4b73ed2f-5d6c-4845-f16b-b2c25ed60012"
      },
      "source": [
        "from sklearn.metrics import accuracy_score\n",
        "accuracy = accuracy_score(y_test, y_pred)\n",
        "accuracy"
      ],
      "execution_count": 44,
      "outputs": [
        {
          "output_type": "execute_result",
          "data": {
            "text/plain": [
              "0.8385093167701864"
            ]
          },
          "metadata": {
            "tags": []
          },
          "execution_count": 44
        }
      ]
    },
    {
      "cell_type": "markdown",
      "metadata": {
        "id": "YvOqC1C-bUFS"
      },
      "source": [
        "###Auc-Roc###"
      ]
    },
    {
      "cell_type": "code",
      "metadata": {
        "colab": {
          "base_uri": "https://localhost:8080/"
        },
        "id": "iemjrwTWbeo1",
        "outputId": "936fc615-44d8-489d-9c1c-9945db2ac773"
      },
      "source": [
        "from sklearn.metrics import roc_auc_score\n",
        "auc_roc = roc_auc_score(y_test, y_pred)\n",
        "auc_roc"
      ],
      "execution_count": 45,
      "outputs": [
        {
          "output_type": "execute_result",
          "data": {
            "text/plain": [
              "0.8192185007974482"
            ]
          },
          "metadata": {
            "tags": []
          },
          "execution_count": 45
        }
      ]
    },
    {
      "cell_type": "markdown",
      "metadata": {
        "id": "1aRBFmh9uBJm"
      },
      "source": [
        "##Predicción##"
      ]
    },
    {
      "cell_type": "code",
      "metadata": {
        "colab": {
          "base_uri": "https://localhost:8080/",
          "height": 407
        },
        "id": "GL0x1QB1uFdC",
        "outputId": "932b4a9c-3835-4c0f-a038-950ca328ce6d"
      },
      "source": [
        "X_holdout = pd.read_csv('https://drive.google.com/uc?export=download&id=1I980-_K9iOucJO26SG5_M8RELOQ5VB6A')\n",
        "X = pp.knn_preprocessing(X_holdout)\n",
        "prediction = pd.DataFrame(gscv.predict(X),columns=['volveria'],dtype=int)\n",
        "pred_formatted = pd.concat([X_holdout.id_usuario,prediction],axis=1)\n",
        "pred_formatted.to_csv('stacking.csv')\n",
        "pred_formatted"
      ],
      "execution_count": 46,
      "outputs": [
        {
          "output_type": "execute_result",
          "data": {
            "text/html": [
              "<div>\n",
              "<style scoped>\n",
              "    .dataframe tbody tr th:only-of-type {\n",
              "        vertical-align: middle;\n",
              "    }\n",
              "\n",
              "    .dataframe tbody tr th {\n",
              "        vertical-align: top;\n",
              "    }\n",
              "\n",
              "    .dataframe thead th {\n",
              "        text-align: right;\n",
              "    }\n",
              "</style>\n",
              "<table border=\"1\" class=\"dataframe\">\n",
              "  <thead>\n",
              "    <tr style=\"text-align: right;\">\n",
              "      <th></th>\n",
              "      <th>id_usuario</th>\n",
              "      <th>volveria</th>\n",
              "    </tr>\n",
              "  </thead>\n",
              "  <tbody>\n",
              "    <tr>\n",
              "      <th>0</th>\n",
              "      <td>650</td>\n",
              "      <td>0</td>\n",
              "    </tr>\n",
              "    <tr>\n",
              "      <th>1</th>\n",
              "      <td>234</td>\n",
              "      <td>0</td>\n",
              "    </tr>\n",
              "    <tr>\n",
              "      <th>2</th>\n",
              "      <td>31</td>\n",
              "      <td>0</td>\n",
              "    </tr>\n",
              "    <tr>\n",
              "      <th>3</th>\n",
              "      <td>552</td>\n",
              "      <td>0</td>\n",
              "    </tr>\n",
              "    <tr>\n",
              "      <th>4</th>\n",
              "      <td>411</td>\n",
              "      <td>0</td>\n",
              "    </tr>\n",
              "    <tr>\n",
              "      <th>...</th>\n",
              "      <td>...</td>\n",
              "      <td>...</td>\n",
              "    </tr>\n",
              "    <tr>\n",
              "      <th>85</th>\n",
              "      <td>354</td>\n",
              "      <td>0</td>\n",
              "    </tr>\n",
              "    <tr>\n",
              "      <th>86</th>\n",
              "      <td>82</td>\n",
              "      <td>0</td>\n",
              "    </tr>\n",
              "    <tr>\n",
              "      <th>87</th>\n",
              "      <td>172</td>\n",
              "      <td>0</td>\n",
              "    </tr>\n",
              "    <tr>\n",
              "      <th>88</th>\n",
              "      <td>8</td>\n",
              "      <td>0</td>\n",
              "    </tr>\n",
              "    <tr>\n",
              "      <th>89</th>\n",
              "      <td>640</td>\n",
              "      <td>0</td>\n",
              "    </tr>\n",
              "  </tbody>\n",
              "</table>\n",
              "<p>90 rows × 2 columns</p>\n",
              "</div>"
            ],
            "text/plain": [
              "    id_usuario  volveria\n",
              "0          650         0\n",
              "1          234         0\n",
              "2           31         0\n",
              "3          552         0\n",
              "4          411         0\n",
              "..         ...       ...\n",
              "85         354         0\n",
              "86          82         0\n",
              "87         172         0\n",
              "88           8         0\n",
              "89         640         0\n",
              "\n",
              "[90 rows x 2 columns]"
            ]
          },
          "metadata": {
            "tags": []
          },
          "execution_count": 46
        }
      ]
    }
  ]
}